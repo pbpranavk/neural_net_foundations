{
 "cells": [
  {
   "cell_type": "code",
   "execution_count": 1,
   "metadata": {
    "execution": {
     "iopub.execute_input": "2022-02-10T18:38:40.939734Z",
     "iopub.status.busy": "2022-02-10T18:38:40.939129Z",
     "iopub.status.idle": "2022-02-10T18:38:42.965042Z",
     "shell.execute_reply": "2022-02-10T18:38:42.965502Z"
    },
    "id": "5pZ8A2liqvgk"
   },
   "outputs": [
    {
     "name": "stdout",
     "output_type": "stream",
     "text": [
      "2.7.0\n"
     ]
    }
   ],
   "source": [
    "import tensorflow as tf\n",
    "\n",
    "from tensorflow.keras import layers\n",
    "from tensorflow.keras import regularizers\n",
    "\n",
    "print(tf.__version__)"
   ]
  },
  {
   "cell_type": "code",
   "execution_count": 2,
   "metadata": {
    "execution": {
     "iopub.execute_input": "2022-02-10T18:38:42.978124Z",
     "iopub.status.busy": "2022-02-10T18:38:42.972440Z",
     "iopub.status.idle": "2022-02-10T18:38:50.025420Z",
     "shell.execute_reply": "2022-02-10T18:38:50.025829Z"
    },
    "id": "QnAtAjqRYVXe"
   },
   "outputs": [
    {
     "name": "stdout",
     "output_type": "stream",
     "text": [
      "Collecting git+https://github.com/tensorflow/docs\n",
      "  Cloning https://github.com/tensorflow/docs to /private/var/folders/rb/43pnpks93vdb2495w14hz73h0000gn/T/pip-req-build-5v_bli9w\n",
      "  Running command git clone -q https://github.com/tensorflow/docs /private/var/folders/rb/43pnpks93vdb2495w14hz73h0000gn/T/pip-req-build-5v_bli9w\n",
      "  Resolved https://github.com/tensorflow/docs to commit 7a810df360b28eb9cfa0aab20b2861c54c519b25\n",
      "Requirement already satisfied: astor in /Users/pranav/learning_plan/env/lib/python3.9/site-packages (from tensorflow-docs==0.0.0.dev0) (0.8.1)\n",
      "Requirement already satisfied: absl-py in /Users/pranav/learning_plan/env/lib/python3.9/site-packages (from tensorflow-docs==0.0.0.dev0) (1.0.0)\n",
      "Requirement already satisfied: jinja2 in /Users/pranav/learning_plan/env/lib/python3.9/site-packages (from tensorflow-docs==0.0.0.dev0) (3.0.2)\n",
      "Requirement already satisfied: protobuf>=3.14 in /Users/pranav/learning_plan/env/lib/python3.9/site-packages (from tensorflow-docs==0.0.0.dev0) (3.19.1)\n",
      "Requirement already satisfied: pyyaml in /Users/pranav/learning_plan/env/lib/python3.9/site-packages (from tensorflow-docs==0.0.0.dev0) (6.0)\n",
      "Requirement already satisfied: six in /Users/pranav/learning_plan/env/lib/python3.9/site-packages (from absl-py->tensorflow-docs==0.0.0.dev0) (1.16.0)\n",
      "Requirement already satisfied: MarkupSafe>=2.0 in /Users/pranav/learning_plan/env/lib/python3.9/site-packages (from jinja2->tensorflow-docs==0.0.0.dev0) (2.0.1)\n"
     ]
    }
   ],
   "source": [
    "!pip install git+https://github.com/tensorflow/docs\n",
    "\n",
    "import tensorflow_docs as tfdocs\n",
    "import tensorflow_docs.modeling\n",
    "import tensorflow_docs.plots"
   ]
  },
  {
   "cell_type": "code",
   "execution_count": 3,
   "metadata": {
    "execution": {
     "iopub.execute_input": "2022-02-10T18:38:50.030529Z",
     "iopub.status.busy": "2022-02-10T18:38:50.029953Z",
     "iopub.status.idle": "2022-02-10T18:38:50.031550Z",
     "shell.execute_reply": "2022-02-10T18:38:50.031925Z"
    },
    "id": "-pnOU-ctX27Q"
   },
   "outputs": [],
   "source": [
    "from  IPython import display\n",
    "from matplotlib import pyplot as plt\n",
    "\n",
    "import numpy as np\n",
    "\n",
    "import pathlib\n",
    "import shutil\n",
    "import tempfile\n"
   ]
  },
  {
   "cell_type": "code",
   "execution_count": 4,
   "metadata": {
    "execution": {
     "iopub.execute_input": "2022-02-10T18:38:50.035738Z",
     "iopub.status.busy": "2022-02-10T18:38:50.035102Z",
     "iopub.status.idle": "2022-02-10T18:38:50.037078Z",
     "shell.execute_reply": "2022-02-10T18:38:50.037428Z"
    },
    "id": "jj6I4dvTtbUe"
   },
   "outputs": [],
   "source": [
    "logdir = pathlib.Path(tempfile.mkdtemp())/\"tensorboard_logs\"\n",
    "shutil.rmtree(logdir, ignore_errors=True)"
   ]
  },
  {
   "cell_type": "code",
   "execution_count": 5,
   "metadata": {
    "execution": {
     "iopub.execute_input": "2022-02-10T18:38:50.041422Z",
     "iopub.status.busy": "2022-02-10T18:38:50.040859Z",
     "iopub.status.idle": "2022-02-10T18:41:26.701689Z",
     "shell.execute_reply": "2022-02-10T18:41:26.701159Z"
    },
    "id": "YPjAvwb-6dFd"
   },
   "outputs": [
    {
     "name": "stdout",
     "output_type": "stream",
     "text": [
      "Downloading data from http://mlphysics.ics.uci.edu/data/higgs/HIGGS.csv.gz\n",
      "2816409600/2816407858 [==============================] - 1386s 0us/step\n",
      "2816417792/2816407858 [==============================] - 1386s 0us/step\n"
     ]
    }
   ],
   "source": [
    "gz = tf.keras.utils.get_file('HIGGS.csv.gz', 'http://mlphysics.ics.uci.edu/data/higgs/HIGGS.csv.gz')"
   ]
  },
  {
   "cell_type": "code",
   "execution_count": 6,
   "metadata": {
    "execution": {
     "iopub.execute_input": "2022-02-10T18:41:26.706583Z",
     "iopub.status.busy": "2022-02-10T18:41:26.705942Z",
     "iopub.status.idle": "2022-02-10T18:41:26.707899Z",
     "shell.execute_reply": "2022-02-10T18:41:26.708282Z"
    },
    "id": "AkiyUdaWIrww"
   },
   "outputs": [],
   "source": [
    "FEATURES = 28"
   ]
  },
  {
   "cell_type": "code",
   "execution_count": 7,
   "metadata": {
    "execution": {
     "iopub.execute_input": "2022-02-10T18:41:28.301117Z",
     "iopub.status.busy": "2022-02-10T18:41:27.389180Z",
     "iopub.status.idle": "2022-02-10T18:41:28.304647Z",
     "shell.execute_reply": "2022-02-10T18:41:28.304172Z"
    },
    "id": "QHz4sLVQEVIU"
   },
   "outputs": [
    {
     "name": "stderr",
     "output_type": "stream",
     "text": [
      "2022-03-01 14:29:28.323538: I tensorflow/core/platform/cpu_feature_guard.cc:151] This TensorFlow binary is optimized with oneAPI Deep Neural Network Library (oneDNN) to use the following CPU instructions in performance-critical operations:  AVX2 FMA\n",
      "To enable them in other operations, rebuild TensorFlow with the appropriate compiler flags.\n"
     ]
    }
   ],
   "source": [
    "ds = tf.data.experimental.CsvDataset(gz,[float(),]*(FEATURES+1), compression_type=\"GZIP\")"
   ]
  },
  {
   "cell_type": "code",
   "execution_count": 8,
   "metadata": {
    "execution": {
     "iopub.execute_input": "2022-02-10T18:41:28.309521Z",
     "iopub.status.busy": "2022-02-10T18:41:28.308907Z",
     "iopub.status.idle": "2022-02-10T18:41:28.311317Z",
     "shell.execute_reply": "2022-02-10T18:41:28.310840Z"
    },
    "id": "zPD6ICDlF6Wf"
   },
   "outputs": [],
   "source": [
    "def pack_row(*row):\n",
    "  label = row[0]\n",
    "  features = tf.stack(row[1:],1)\n",
    "  return features, label"
   ]
  },
  {
   "cell_type": "code",
   "execution_count": 9,
   "metadata": {
    "execution": {
     "iopub.execute_input": "2022-02-10T18:41:28.316859Z",
     "iopub.status.busy": "2022-02-10T18:41:28.316222Z",
     "iopub.status.idle": "2022-02-10T18:41:28.383919Z",
     "shell.execute_reply": "2022-02-10T18:41:28.383389Z"
    },
    "id": "-w-VHTwwGVoZ"
   },
   "outputs": [],
   "source": [
    "packed_ds = ds.batch(10000).map(pack_row).unbatch()"
   ]
  },
  {
   "cell_type": "code",
   "execution_count": 10,
   "metadata": {
    "execution": {
     "iopub.execute_input": "2022-02-10T18:41:28.390066Z",
     "iopub.status.busy": "2022-02-10T18:41:28.389440Z",
     "iopub.status.idle": "2022-02-10T18:41:31.001076Z",
     "shell.execute_reply": "2022-02-10T18:41:31.001566Z"
    },
    "id": "TfcXuv33Fvka"
   },
   "outputs": [
    {
     "name": "stdout",
     "output_type": "stream",
     "text": [
      "tf.Tensor(\n",
      "[ 0.8692932  -0.6350818   0.22569026  0.32747006 -0.6899932   0.75420225\n",
      " -0.24857314 -1.0920639   0.          1.3749921  -0.6536742   0.9303491\n",
      "  1.1074361   1.1389043  -1.5781983  -1.0469854   0.          0.65792954\n",
      " -0.01045457 -0.04576717  3.1019614   1.35376     0.9795631   0.97807616\n",
      "  0.92000484  0.72165745  0.98875093  0.87667835], shape=(28,), dtype=float32)\n"
     ]
    },
    {
     "data": {
      "image/png": "[encoded data removed]",
      "text/plain": [
       "<Figure size 432x288 with 1 Axes>"
      ]
     },
     "metadata": {
      "needs_background": "light"
     },
     "output_type": "display_data"
    }
   ],
   "source": [
    "for features,label in packed_ds.batch(1000).take(1):\n",
    "  print(features[0])\n",
    "  plt.hist(features.numpy().flatten(), bins = 101)"
   ]
  },
  {
   "cell_type": "code",
   "execution_count": 11,
   "metadata": {
    "execution": {
     "iopub.execute_input": "2022-02-10T18:41:31.006442Z",
     "iopub.status.busy": "2022-02-10T18:41:31.005864Z",
     "iopub.status.idle": "2022-02-10T18:41:31.007730Z",
     "shell.execute_reply": "2022-02-10T18:41:31.008125Z"
    },
    "id": "hmk49OqZIFZP"
   },
   "outputs": [],
   "source": [
    "N_VALIDATION = int(1e3)\n",
    "N_TRAIN = int(1e4)\n",
    "BUFFER_SIZE = int(1e4)\n",
    "BATCH_SIZE = 500\n",
    "STEPS_PER_EPOCH = N_TRAIN//BATCH_SIZE"
   ]
  },
  {
   "cell_type": "code",
   "execution_count": 12,
   "metadata": {
    "execution": {
     "iopub.execute_input": "2022-02-10T18:41:31.012922Z",
     "iopub.status.busy": "2022-02-10T18:41:31.012293Z",
     "iopub.status.idle": "2022-02-10T18:41:31.015817Z",
     "shell.execute_reply": "2022-02-10T18:41:31.016221Z"
    },
    "id": "H8H_ZzpBOOk-"
   },
   "outputs": [],
   "source": [
    "validate_ds = packed_ds.take(N_VALIDATION).cache()\n",
    "train_ds = packed_ds.skip(N_VALIDATION).take(N_TRAIN).cache()"
   ]
  },
  {
   "cell_type": "code",
   "execution_count": 13,
   "metadata": {
    "execution": {
     "iopub.execute_input": "2022-02-10T18:41:31.020910Z",
     "iopub.status.busy": "2022-02-10T18:41:31.020297Z",
     "iopub.status.idle": "2022-02-10T18:41:31.022680Z",
     "shell.execute_reply": "2022-02-10T18:41:31.023102Z"
    },
    "id": "9zAOqk2_Px7K"
   },
   "outputs": [
    {
     "data": {
      "text/plain": [
       "<CacheDataset shapes: ((28,), ()), types: (tf.float32, tf.float32)>"
      ]
     },
     "execution_count": 13,
     "metadata": {},
     "output_type": "execute_result"
    }
   ],
   "source": [
    "train_ds"
   ]
  },
  {
   "cell_type": "code",
   "execution_count": 14,
   "metadata": {
    "execution": {
     "iopub.execute_input": "2022-02-10T18:41:31.027617Z",
     "iopub.status.busy": "2022-02-10T18:41:31.027050Z",
     "iopub.status.idle": "2022-02-10T18:41:31.031044Z",
     "shell.execute_reply": "2022-02-10T18:41:31.031430Z"
    },
    "id": "Y7I4J355O223"
   },
   "outputs": [],
   "source": [
    "validate_ds = validate_ds.batch(BATCH_SIZE)\n",
    "train_ds = train_ds.shuffle(BUFFER_SIZE).repeat().batch(BATCH_SIZE)"
   ]
  },
  {
   "cell_type": "code",
   "execution_count": 15,
   "metadata": {
    "execution": {
     "iopub.execute_input": "2022-02-10T18:41:31.036199Z",
     "iopub.status.busy": "2022-02-10T18:41:31.035603Z",
     "iopub.status.idle": "2022-02-10T18:41:31.037299Z",
     "shell.execute_reply": "2022-02-10T18:41:31.037650Z"
    },
    "id": "LwQp-ERhAD6F"
   },
   "outputs": [],
   "source": [
    "lr_schedule = tf.keras.optimizers.schedules.InverseTimeDecay(\n",
    "  0.001,\n",
    "  decay_steps=STEPS_PER_EPOCH*1000,\n",
    "  decay_rate=1,\n",
    "  staircase=False)\n",
    "\n",
    "def get_optimizer():\n",
    "  return tf.keras.optimizers.Adam(lr_schedule)"
   ]
  },
  {
   "cell_type": "code",
   "execution_count": 16,
   "metadata": {
    "execution": {
     "iopub.execute_input": "2022-02-10T18:41:31.043025Z",
     "iopub.status.busy": "2022-02-10T18:41:31.042407Z",
     "iopub.status.idle": "2022-02-10T18:41:31.155475Z",
     "shell.execute_reply": "2022-02-10T18:41:31.154912Z"
    },
    "id": "HIo_yPjEAFgn"
   },
   "outputs": [
    {
     "data": {
      "image/png": "[encoded data removed]",
      "text/plain": [
       "<Figure size 576x432 with 1 Axes>"
      ]
     },
     "metadata": {
      "needs_background": "light"
     },
     "output_type": "display_data"
    }
   ],
   "source": [
    "step = np.linspace(0,100000)\n",
    "lr = lr_schedule(step)\n",
    "plt.figure(figsize = (8,6))\n",
    "plt.plot(step/STEPS_PER_EPOCH, lr)\n",
    "plt.ylim([0,max(plt.ylim())])\n",
    "plt.xlabel('Epoch')\n",
    "_ = plt.ylabel('Learning Rate')\n"
   ]
  },
  {
   "cell_type": "code",
   "execution_count": 17,
   "metadata": {
    "execution": {
     "iopub.execute_input": "2022-02-10T18:41:31.160699Z",
     "iopub.status.busy": "2022-02-10T18:41:31.160109Z",
     "iopub.status.idle": "2022-02-10T18:41:31.162304Z",
     "shell.execute_reply": "2022-02-10T18:41:31.162678Z"
    },
    "id": "vSv8rfw_T85n"
   },
   "outputs": [],
   "source": [
    "def get_callbacks(name):\n",
    "  return [\n",
    "    tfdocs.modeling.EpochDots(),\n",
    "    tf.keras.callbacks.EarlyStopping(monitor='val_binary_crossentropy', patience=200),\n",
    "    tf.keras.callbacks.TensorBoard(logdir/name),\n",
    "  ]"
   ]
  },
  {
   "cell_type": "code",
   "execution_count": 18,
   "metadata": {
    "execution": {
     "iopub.execute_input": "2022-02-10T18:41:31.168490Z",
     "iopub.status.busy": "2022-02-10T18:41:31.167864Z",
     "iopub.status.idle": "2022-02-10T18:41:31.170242Z",
     "shell.execute_reply": "2022-02-10T18:41:31.169799Z"
    },
    "id": "xRCGwU3YH5sT"
   },
   "outputs": [],
   "source": [
    "def compile_and_fit(model, name, optimizer=None, max_epochs=10000):\n",
    "  if optimizer is None:\n",
    "    optimizer = get_optimizer()\n",
    "  model.compile(optimizer=optimizer,\n",
    "                loss=tf.keras.losses.BinaryCrossentropy(from_logits=True),\n",
    "                metrics=[\n",
    "                  tf.keras.losses.BinaryCrossentropy(\n",
    "                      from_logits=True, name='binary_crossentropy'),\n",
    "                  'accuracy'])\n",
    "\n",
    "  model.summary()\n",
    "\n",
    "  history = model.fit(\n",
    "    train_ds,\n",
    "    steps_per_epoch = STEPS_PER_EPOCH,\n",
    "    epochs=max_epochs,\n",
    "    validation_data=validate_ds,\n",
    "    callbacks=get_callbacks(name),\n",
    "    verbose=0)\n",
    "  return history"
   ]
  },
  {
   "cell_type": "code",
   "execution_count": 19,
   "metadata": {
    "execution": {
     "iopub.execute_input": "2022-02-10T18:41:31.180911Z",
     "iopub.status.busy": "2022-02-10T18:41:31.179577Z",
     "iopub.status.idle": "2022-02-10T18:41:31.201906Z",
     "shell.execute_reply": "2022-02-10T18:41:31.202313Z"
    },
    "id": "EZh-QFjKHb70"
   },
   "outputs": [],
   "source": [
    "tiny_model = tf.keras.Sequential([\n",
    "    layers.Dense(16, activation='elu', input_shape=(FEATURES,)),\n",
    "    layers.Dense(1)\n",
    "])"
   ]
  },
  {
   "cell_type": "code",
   "execution_count": 20,
   "metadata": {
    "execution": {
     "iopub.execute_input": "2022-02-10T18:41:31.206717Z",
     "iopub.status.busy": "2022-02-10T18:41:31.206116Z",
     "iopub.status.idle": "2022-02-10T18:41:31.207894Z",
     "shell.execute_reply": "2022-02-10T18:41:31.208364Z"
    },
    "id": "X72IUdWYipIS"
   },
   "outputs": [],
   "source": [
    "size_histories = {}"
   ]
  },
  {
   "cell_type": "code",
   "execution_count": 21,
   "metadata": {
    "execution": {
     "iopub.execute_input": "2022-02-10T18:41:31.213630Z",
     "iopub.status.busy": "2022-02-10T18:41:31.212258Z",
     "iopub.status.idle": "2022-02-10T18:42:57.171242Z",
     "shell.execute_reply": "2022-02-10T18:42:57.170710Z"
    },
    "id": "bdOcJtPGHhJ5"
   },
   "outputs": [
    {
     "name": "stdout",
     "output_type": "stream",
     "text": [
      "Model: \"sequential\"\n",
      "_________________________________________________________________\n",
      " Layer (type)                Output Shape              Param #   \n",
      "=================================================================\n",
      " dense (Dense)               (None, 16)                464       \n",
      "                                                                 \n",
      " dense_1 (Dense)             (None, 1)                 17        \n",
      "                                                                 \n",
      "=================================================================\n",
      "Total params: 481\n",
      "Trainable params: 481\n",
      "Non-trainable params: 0\n",
      "_________________________________________________________________\n",
      "\n",
      "Epoch: 0, accuracy:0.4689,  binary_crossentropy:0.7520,  loss:0.7520,  val_accuracy:0.4580,  val_binary_crossentropy:0.7336,  val_loss:0.7336,  \n",
      "....................................................................................................\n",
      "Epoch: 100, accuracy:0.6019,  binary_crossentropy:0.6236,  loss:0.6236,  val_accuracy:0.5760,  val_binary_crossentropy:0.6234,  val_loss:0.6234,  \n",
      "....................................................................................................\n",
      "Epoch: 200, accuracy:0.6330,  binary_crossentropy:0.6076,  loss:0.6076,  val_accuracy:0.6170,  val_binary_crossentropy:0.6092,  val_loss:0.6092,  \n",
      "....................................................................................................\n",
      "Epoch: 300, accuracy:0.6486,  binary_crossentropy:0.5955,  loss:0.5955,  val_accuracy:0.6420,  val_binary_crossentropy:0.5978,  val_loss:0.5978,  \n",
      "....................................................................................................\n",
      "Epoch: 400, accuracy:0.6663,  binary_crossentropy:0.5882,  loss:0.5882,  val_accuracy:0.6440,  val_binary_crossentropy:0.5924,  val_loss:0.5924,  \n",
      "....................................................................................................\n",
      "Epoch: 500, accuracy:0.6715,  binary_crossentropy:0.5837,  loss:0.5837,  val_accuracy:0.6580,  val_binary_crossentropy:0.5877,  val_loss:0.5877,  \n",
      "....................................................................................................\n",
      "Epoch: 600, accuracy:0.6718,  binary_crossentropy:0.5816,  loss:0.5816,  val_accuracy:0.6710,  val_binary_crossentropy:0.5849,  val_loss:0.5849,  \n",
      "....................................................................................................\n",
      "Epoch: 700, accuracy:0.6747,  binary_crossentropy:0.5792,  loss:0.5792,  val_accuracy:0.6780,  val_binary_crossentropy:0.5841,  val_loss:0.5841,  \n",
      "....................................................................................................\n",
      "Epoch: 800, accuracy:0.6776,  binary_crossentropy:0.5773,  loss:0.5773,  val_accuracy:0.6710,  val_binary_crossentropy:0.5841,  val_loss:0.5841,  \n",
      "....................................................................................................\n",
      "Epoch: 900, accuracy:0.6780,  binary_crossentropy:0.5761,  loss:0.5761,  val_accuracy:0.6760,  val_binary_crossentropy:0.5835,  val_loss:0.5835,  \n",
      "....................................................................................................\n",
      "Epoch: 1000, accuracy:0.6789,  binary_crossentropy:0.5756,  loss:0.5756,  val_accuracy:0.6830,  val_binary_crossentropy:0.5831,  val_loss:0.5831,  \n",
      "....................................................................................................\n",
      "Epoch: 1100, accuracy:0.6821,  binary_crossentropy:0.5744,  loss:0.5744,  val_accuracy:0.6520,  val_binary_crossentropy:0.5876,  val_loss:0.5876,  \n",
      "....................................................................................................\n",
      "Epoch: 1200, accuracy:0.6843,  binary_crossentropy:0.5730,  loss:0.5730,  val_accuracy:0.6630,  val_binary_crossentropy:0.5844,  val_loss:0.5844,  \n",
      "....................................................................................................\n",
      "Epoch: 1300, accuracy:0.6803,  binary_crossentropy:0.5721,  loss:0.5721,  val_accuracy:0.6690,  val_binary_crossentropy:0.5835,  val_loss:0.5835,  \n",
      "....................................................................................................\n",
      "Epoch: 1400, accuracy:0.6793,  binary_crossentropy:0.5716,  loss:0.5716,  val_accuracy:0.6780,  val_binary_crossentropy:0.5823,  val_loss:0.5823,  \n",
      "....................................................................................................\n",
      "Epoch: 1500, accuracy:0.6806,  binary_crossentropy:0.5707,  loss:0.5707,  val_accuracy:0.6790,  val_binary_crossentropy:0.5830,  val_loss:0.5830,  \n",
      "....................................................................................................\n",
      "Epoch: 1600, accuracy:0.6829,  binary_crossentropy:0.5703,  loss:0.5703,  val_accuracy:0.6810,  val_binary_crossentropy:0.5829,  val_loss:0.5829,  \n",
      "....................................................................................................\n",
      "Epoch: 1700, accuracy:0.6823,  binary_crossentropy:0.5694,  loss:0.5694,  val_accuracy:0.6800,  val_binary_crossentropy:0.5830,  val_loss:0.5830,  \n",
      "....................................................................................................\n",
      "Epoch: 1800, accuracy:0.6809,  binary_crossentropy:0.5690,  loss:0.5690,  val_accuracy:0.6780,  val_binary_crossentropy:0.5821,  val_loss:0.5821,  \n",
      "....................................................................................................\n",
      "Epoch: 1900, accuracy:0.6836,  binary_crossentropy:0.5682,  loss:0.5682,  val_accuracy:0.6690,  val_binary_crossentropy:0.5836,  val_loss:0.5836,  \n",
      "............................................................"
     ]
    }
   ],
   "source": [
    "size_histories['Tiny'] = compile_and_fit(tiny_model, 'sizes/Tiny')"
   ]
  },
  {
   "cell_type": "code",
   "execution_count": 22,
   "metadata": {
    "execution": {
     "iopub.execute_input": "2022-02-10T18:42:57.176144Z",
     "iopub.status.busy": "2022-02-10T18:42:57.175482Z",
     "iopub.status.idle": "2022-02-10T18:42:57.320964Z",
     "shell.execute_reply": "2022-02-10T18:42:57.321347Z"
    },
    "id": "dkEvb2x5XsjE"
   },
   "outputs": [
    {
     "data": {
      "text/plain": [
       "(0.5, 0.7)"
      ]
     },
     "execution_count": 22,
     "metadata": {},
     "output_type": "execute_result"
    },
    {
     "data": {
      "image/png": "[encoded data removed]",
      "text/plain": [
       "<Figure size 432x288 with 1 Axes>"
      ]
     },
     "metadata": {
      "needs_background": "light"
     },
     "output_type": "display_data"
    }
   ],
   "source": [
    "plotter = tfdocs.plots.HistoryPlotter(metric = 'binary_crossentropy', smoothing_std=10)\n",
    "plotter.plot(size_histories)\n",
    "plt.ylim([0.5, 0.7])"
   ]
  },
  {
   "cell_type": "code",
   "execution_count": 23,
   "metadata": {
    "execution": {
     "iopub.execute_input": "2022-02-10T18:42:57.328941Z",
     "iopub.status.busy": "2022-02-10T18:42:57.328157Z",
     "iopub.status.idle": "2022-02-10T18:42:57.349803Z",
     "shell.execute_reply": "2022-02-10T18:42:57.350172Z"
    },
    "id": "QKgdXPx9usBa"
   },
   "outputs": [],
   "source": [
    "small_model = tf.keras.Sequential([\n",
    "    # `input_shape` is only required here so that `.summary` works.\n",
    "    layers.Dense(16, activation='elu', input_shape=(FEATURES,)),\n",
    "    layers.Dense(16, activation='elu'),\n",
    "    layers.Dense(1)\n",
    "])"
   ]
  },
  {
   "cell_type": "code",
   "execution_count": 24,
   "metadata": {
    "execution": {
     "iopub.execute_input": "2022-02-10T18:42:57.356234Z",
     "iopub.status.busy": "2022-02-10T18:42:57.355527Z",
     "iopub.status.idle": "2022-02-10T18:44:15.092259Z",
     "shell.execute_reply": "2022-02-10T18:44:15.091681Z"
    },
    "id": "LqG3MXF5xSjR"
   },
   "outputs": [
    {
     "name": "stdout",
     "output_type": "stream",
     "text": [
      "Model: \"sequential_1\"\n",
      "_________________________________________________________________\n",
      " Layer (type)                Output Shape              Param #   \n",
      "=================================================================\n",
      " dense_2 (Dense)             (None, 16)                464       \n",
      "                                                                 \n",
      " dense_3 (Dense)             (None, 16)                272       \n",
      "                                                                 \n",
      " dense_4 (Dense)             (None, 1)                 17        \n",
      "                                                                 \n",
      "=================================================================\n",
      "Total params: 753\n",
      "Trainable params: 753\n",
      "Non-trainable params: 0\n",
      "_________________________________________________________________\n",
      "\n",
      "Epoch: 0, accuracy:0.4785,  binary_crossentropy:0.7429,  loss:0.7429,  val_accuracy:0.4650,  val_binary_crossentropy:0.7314,  val_loss:0.7314,  \n",
      "....................................................................................................\n",
      "Epoch: 100, accuracy:0.6265,  binary_crossentropy:0.6119,  loss:0.6119,  val_accuracy:0.6000,  val_binary_crossentropy:0.6192,  val_loss:0.6192,  \n",
      "....................................................................................................\n",
      "Epoch: 200, accuracy:0.6555,  binary_crossentropy:0.5920,  loss:0.5920,  val_accuracy:0.6490,  val_binary_crossentropy:0.6027,  val_loss:0.6027,  \n",
      "....................................................................................................\n",
      "Epoch: 300, accuracy:0.6709,  binary_crossentropy:0.5835,  loss:0.5835,  val_accuracy:0.6680,  val_binary_crossentropy:0.5968,  val_loss:0.5968,  \n",
      "....................................................................................................\n",
      "Epoch: 400, accuracy:0.6720,  binary_crossentropy:0.5762,  loss:0.5762,  val_accuracy:0.6680,  val_binary_crossentropy:0.5928,  val_loss:0.5928,  \n",
      "....................................................................................................\n",
      "Epoch: 500, accuracy:0.6797,  binary_crossentropy:0.5708,  loss:0.5708,  val_accuracy:0.6500,  val_binary_crossentropy:0.5927,  val_loss:0.5927,  \n",
      "....................................................................................................\n",
      "Epoch: 600, accuracy:0.6856,  binary_crossentropy:0.5674,  loss:0.5674,  val_accuracy:0.6430,  val_binary_crossentropy:0.5929,  val_loss:0.5929,  \n",
      "....................................................................................................\n",
      "Epoch: 700, accuracy:0.6890,  binary_crossentropy:0.5624,  loss:0.5624,  val_accuracy:0.6680,  val_binary_crossentropy:0.5931,  val_loss:0.5931,  \n",
      "................................"
     ]
    }
   ],
   "source": [
    "size_histories['Small'] = compile_and_fit(small_model, 'sizes/Small')"
   ]
  },
  {
   "cell_type": "code",
   "execution_count": 25,
   "metadata": {
    "execution": {
     "iopub.execute_input": "2022-02-10T18:44:15.101021Z",
     "iopub.status.busy": "2022-02-10T18:44:15.100445Z",
     "iopub.status.idle": "2022-02-10T18:44:15.130256Z",
     "shell.execute_reply": "2022-02-10T18:44:15.130633Z"
    },
    "id": "jksi-XtaxDAh"
   },
   "outputs": [],
   "source": [
    "medium_model = tf.keras.Sequential([\n",
    "    layers.Dense(64, activation='elu', input_shape=(FEATURES,)),\n",
    "    layers.Dense(64, activation='elu'),\n",
    "    layers.Dense(64, activation='elu'),\n",
    "    layers.Dense(1)\n",
    "])"
   ]
  },
  {
   "cell_type": "code",
   "execution_count": 26,
   "metadata": {
    "execution": {
     "iopub.execute_input": "2022-02-10T18:44:15.136847Z",
     "iopub.status.busy": "2022-02-10T18:44:15.135998Z",
     "iopub.status.idle": "2022-02-10T18:44:39.995586Z",
     "shell.execute_reply": "2022-02-10T18:44:39.995952Z"
    },
    "id": "Ofn1AwDhx-Fe"
   },
   "outputs": [
    {
     "name": "stdout",
     "output_type": "stream",
     "text": [
      "Model: \"sequential_2\"\n",
      "_________________________________________________________________\n",
      " Layer (type)                Output Shape              Param #   \n",
      "=================================================================\n",
      " dense_5 (Dense)             (None, 64)                1856      \n",
      "                                                                 \n",
      " dense_6 (Dense)             (None, 64)                4160      \n",
      "                                                                 \n",
      " dense_7 (Dense)             (None, 64)                4160      \n",
      "                                                                 \n",
      " dense_8 (Dense)             (None, 1)                 65        \n",
      "                                                                 \n",
      "=================================================================\n",
      "Total params: 10,241\n",
      "Trainable params: 10,241\n",
      "Non-trainable params: 0\n",
      "_________________________________________________________________\n",
      "\n",
      "Epoch: 0, accuracy:0.4884,  binary_crossentropy:0.6952,  loss:0.6952,  val_accuracy:0.4990,  val_binary_crossentropy:0.6852,  val_loss:0.6852,  \n",
      "....................................................................................................\n",
      "Epoch: 100, accuracy:0.7172,  binary_crossentropy:0.5285,  loss:0.5285,  val_accuracy:0.6810,  val_binary_crossentropy:0.6107,  val_loss:0.6107,  \n",
      "....................................................................................................\n",
      "Epoch: 200, accuracy:0.7771,  binary_crossentropy:0.4345,  loss:0.4345,  val_accuracy:0.6670,  val_binary_crossentropy:0.6945,  val_loss:0.6945,  \n",
      ".................................................................."
     ]
    }
   ],
   "source": [
    "size_histories['Medium']  = compile_and_fit(medium_model, \"sizes/Medium\")"
   ]
  },
  {
   "cell_type": "code",
   "execution_count": 27,
   "metadata": {
    "execution": {
     "iopub.execute_input": "2022-02-10T18:44:40.006241Z",
     "iopub.status.busy": "2022-02-10T18:44:40.005248Z",
     "iopub.status.idle": "2022-02-10T18:44:40.041227Z",
     "shell.execute_reply": "2022-02-10T18:44:40.040788Z"
    },
    "id": "ghQwwqwqvQM9"
   },
   "outputs": [],
   "source": [
    "large_model = tf.keras.Sequential([\n",
    "    layers.Dense(512, activation='elu', input_shape=(FEATURES,)),\n",
    "    layers.Dense(512, activation='elu'),\n",
    "    layers.Dense(512, activation='elu'),\n",
    "    layers.Dense(512, activation='elu'),\n",
    "    layers.Dense(1)\n",
    "])"
   ]
  },
  {
   "cell_type": "code",
   "execution_count": 28,
   "metadata": {
    "execution": {
     "iopub.execute_input": "2022-02-10T18:44:40.046787Z",
     "iopub.status.busy": "2022-02-10T18:44:40.046196Z",
     "iopub.status.idle": "2022-02-10T18:45:03.430968Z",
     "shell.execute_reply": "2022-02-10T18:45:03.430486Z"
    },
    "id": "U1A99dhqvepf"
   },
   "outputs": [
    {
     "name": "stdout",
     "output_type": "stream",
     "text": [
      "Model: \"sequential_3\"\n",
      "_________________________________________________________________\n",
      " Layer (type)                Output Shape              Param #   \n",
      "=================================================================\n",
      " dense_9 (Dense)             (None, 512)               14848     \n",
      "                                                                 \n",
      " dense_10 (Dense)            (None, 512)               262656    \n",
      "                                                                 \n",
      " dense_11 (Dense)            (None, 512)               262656    \n",
      "                                                                 \n",
      " dense_12 (Dense)            (None, 512)               262656    \n",
      "                                                                 \n",
      " dense_13 (Dense)            (None, 1)                 513       \n",
      "                                                                 \n",
      "=================================================================\n",
      "Total params: 803,329\n",
      "Trainable params: 803,329\n",
      "Non-trainable params: 0\n",
      "_________________________________________________________________\n",
      "\n",
      "Epoch: 0, accuracy:0.5079,  binary_crossentropy:0.8026,  loss:0.8026,  val_accuracy:0.5200,  val_binary_crossentropy:0.6736,  val_loss:0.6736,  \n",
      "....................................................................................................\n",
      "Epoch: 100, accuracy:1.0000,  binary_crossentropy:0.0022,  loss:0.0022,  val_accuracy:0.6620,  val_binary_crossentropy:1.8200,  val_loss:1.8200,  \n",
      "....................................................................................................\n",
      "Epoch: 200, accuracy:1.0000,  binary_crossentropy:0.0001,  loss:0.0001,  val_accuracy:0.6740,  val_binary_crossentropy:2.4718,  val_loss:2.4718,  \n",
      "............................."
     ]
    }
   ],
   "source": [
    "size_histories['large'] = compile_and_fit(large_model, \"sizes/large\")"
   ]
  },
  {
   "cell_type": "code",
   "execution_count": 29,
   "metadata": {
    "execution": {
     "iopub.execute_input": "2022-02-10T18:45:03.435773Z",
     "iopub.status.busy": "2022-02-10T18:45:03.435209Z",
     "iopub.status.idle": "2022-02-10T18:45:03.992937Z",
     "shell.execute_reply": "2022-02-10T18:45:03.993335Z"
    },
    "id": "0XmKDtOWzOpk"
   },
   "outputs": [
    {
     "data": {
      "text/plain": [
       "Text(0.5, 0, 'Epochs [Log Scale]')"
      ]
     },
     "execution_count": 29,
     "metadata": {},
     "output_type": "execute_result"
    },
    {
     "data": {
      "image/png": "[encoded data removed]",
      "text/plain": [
       "<Figure size 432x288 with 1 Axes>"
      ]
     },
     "metadata": {
      "needs_background": "light"
     },
     "output_type": "display_data"
    }
   ],
   "source": [
    "plotter.plot(size_histories)\n",
    "a = plt.xscale('log')\n",
    "plt.xlim([5, max(plt.xlim())])\n",
    "plt.ylim([0.5, 0.7])\n",
    "plt.xlabel(\"Epochs [Log Scale]\")"
   ]
  },
  {
   "cell_type": "code",
   "execution_count": 30,
   "metadata": {
    "id": "6oa1lkJddZ-m"
   },
   "outputs": [
    {
     "data": {
      "text/html": [
       "\n",
       "      <iframe id=\"tensorboard-frame-7d192db8956ca7f8\" width=\"100%\" height=\"800\" frameborder=\"0\">\n",
       "      </iframe>\n",
       "      <script>\n",
       "        (function() {\n",
       "          const frame = document.getElementById(\"tensorboard-frame-7d192db8956ca7f8\");\n",
       "          const url = new URL(\"/\", window.location);\n",
       "          const port = 6006;\n",
       "          if (port) {\n",
       "            url.port = port;\n",
       "          }\n",
       "          frame.src = url;\n",
       "        })();\n",
       "      </script>\n",
       "    "
      ],
      "text/plain": [
       "<IPython.core.display.HTML object>"
      ]
     },
     "metadata": {},
     "output_type": "display_data"
    }
   ],
   "source": [
    "#docs_infra: no_execute\n",
    "\n",
    "# Load the TensorBoard notebook extension\n",
    "%load_ext tensorboard\n",
    "\n",
    "# Open an embedded TensorBoard viewer\n",
    "%tensorboard --logdir {logdir}/sizes"
   ]
  },
  {
   "cell_type": "code",
   "execution_count": 31,
   "metadata": {
    "execution": {
     "iopub.execute_input": "2022-02-10T18:45:03.998712Z",
     "iopub.status.busy": "2022-02-10T18:45:03.998012Z",
     "iopub.status.idle": "2022-02-10T18:45:04.000714Z",
     "shell.execute_reply": "2022-02-10T18:45:04.001070Z"
    },
    "id": "dX5fcgrADwym"
   },
   "outputs": [
    {
     "data": {
      "text/html": [
       "\n",
       "        <iframe\n",
       "            width=\"100%\"\n",
       "            height=\"800px\"\n",
       "            src=\"https://tensorboard.dev/experiment/vW7jmmF9TmKmy3rbheMQpw/#scalars&_smoothingWeight=0.97\"\n",
       "            frameborder=\"0\"\n",
       "            allowfullscreen\n",
       "            \n",
       "        ></iframe>\n",
       "        "
      ],
      "text/plain": [
       "<IPython.lib.display.IFrame at 0x14346df40>"
      ]
     },
     "execution_count": 31,
     "metadata": {},
     "output_type": "execute_result"
    }
   ],
   "source": [
    "display.IFrame(\n",
    "    src=\"https://tensorboard.dev/experiment/vW7jmmF9TmKmy3rbheMQpw/#scalars&_smoothingWeight=0.97\",\n",
    "    width=\"100%\", height=\"800px\")"
   ]
  },
  {
   "cell_type": "code",
   "execution_count": 32,
   "metadata": {
    "execution": {
     "iopub.execute_input": "2022-02-10T18:45:04.005886Z",
     "iopub.status.busy": "2022-02-10T18:45:04.005289Z",
     "iopub.status.idle": "2022-02-10T18:45:04.010076Z",
     "shell.execute_reply": "2022-02-10T18:45:04.010465Z"
    },
    "id": "40k1eBtnQzNo"
   },
   "outputs": [
    {
     "data": {
      "text/plain": [
       "PosixPath('/var/folders/rb/43pnpks93vdb2495w14hz73h0000gn/T/tmprd_enawb/tensorboard_logs/regularizers/Tiny')"
      ]
     },
     "execution_count": 32,
     "metadata": {},
     "output_type": "execute_result"
    }
   ],
   "source": [
    "shutil.rmtree(logdir/'regularizers/Tiny', ignore_errors=True)\n",
    "shutil.copytree(logdir/'sizes/Tiny', logdir/'regularizers/Tiny')"
   ]
  },
  {
   "cell_type": "code",
   "execution_count": 33,
   "metadata": {
    "execution": {
     "iopub.execute_input": "2022-02-10T18:45:04.014674Z",
     "iopub.status.busy": "2022-02-10T18:45:04.013898Z",
     "iopub.status.idle": "2022-02-10T18:45:04.015976Z",
     "shell.execute_reply": "2022-02-10T18:45:04.015554Z"
    },
    "id": "vFWMeFo7jLpN"
   },
   "outputs": [],
   "source": [
    "regularizer_histories = {}\n",
    "regularizer_histories['Tiny'] = size_histories['Tiny']"
   ]
  },
  {
   "cell_type": "code",
   "execution_count": 34,
   "metadata": {
    "execution": {
     "iopub.execute_input": "2022-02-10T18:45:04.026119Z",
     "iopub.status.busy": "2022-02-10T18:45:04.025491Z",
     "iopub.status.idle": "2022-02-10T18:45:53.712886Z",
     "shell.execute_reply": "2022-02-10T18:45:53.713234Z"
    },
    "id": "HFGmcwduwVyQ"
   },
   "outputs": [
    {
     "name": "stdout",
     "output_type": "stream",
     "text": [
      "Model: \"sequential_4\"\n",
      "_________________________________________________________________\n",
      " Layer (type)                Output Shape              Param #   \n",
      "=================================================================\n",
      " dense_14 (Dense)            (None, 512)               14848     \n",
      "                                                                 \n",
      " dense_15 (Dense)            (None, 512)               262656    \n",
      "                                                                 \n",
      " dense_16 (Dense)            (None, 512)               262656    \n",
      "                                                                 \n",
      " dense_17 (Dense)            (None, 512)               262656    \n",
      "                                                                 \n",
      " dense_18 (Dense)            (None, 1)                 513       \n",
      "                                                                 \n",
      "=================================================================\n",
      "Total params: 803,329\n",
      "Trainable params: 803,329\n",
      "Non-trainable params: 0\n",
      "_________________________________________________________________\n",
      "\n",
      "Epoch: 0, accuracy:0.5066,  binary_crossentropy:0.8347,  loss:2.3544,  val_accuracy:0.5830,  val_binary_crossentropy:0.6933,  val_loss:2.1437,  \n",
      "....................................................................................................\n",
      "Epoch: 100, accuracy:0.6494,  binary_crossentropy:0.6010,  loss:0.6243,  val_accuracy:0.6310,  val_binary_crossentropy:0.5936,  val_loss:0.6161,  \n",
      "....................................................................................................\n",
      "Epoch: 200, accuracy:0.6735,  binary_crossentropy:0.5818,  loss:0.6040,  val_accuracy:0.6870,  val_binary_crossentropy:0.5801,  val_loss:0.6023,  \n",
      "....................................................................................................\n",
      "Epoch: 300, accuracy:0.6796,  binary_crossentropy:0.5721,  loss:0.5963,  val_accuracy:0.6920,  val_binary_crossentropy:0.5885,  val_loss:0.6123,  \n",
      "....................................................................................................\n",
      "Epoch: 400, accuracy:0.6940,  binary_crossentropy:0.5658,  loss:0.5906,  val_accuracy:0.6750,  val_binary_crossentropy:0.5825,  val_loss:0.6074,  \n",
      "........................................"
     ]
    }
   ],
   "source": [
    "l2_model = tf.keras.Sequential([\n",
    "    layers.Dense(512, activation='elu',\n",
    "                 kernel_regularizer=regularizers.l2(0.001),\n",
    "                 input_shape=(FEATURES,)),\n",
    "    layers.Dense(512, activation='elu',\n",
    "                 kernel_regularizer=regularizers.l2(0.001)),\n",
    "    layers.Dense(512, activation='elu',\n",
    "                 kernel_regularizer=regularizers.l2(0.001)),\n",
    "    layers.Dense(512, activation='elu',\n",
    "                 kernel_regularizer=regularizers.l2(0.001)),\n",
    "    layers.Dense(1)\n",
    "])\n",
    "\n",
    "regularizer_histories['l2'] = compile_and_fit(l2_model, \"regularizers/l2\")"
   ]
  },
  {
   "cell_type": "code",
   "execution_count": 35,
   "metadata": {
    "execution": {
     "iopub.execute_input": "2022-02-10T18:45:53.718648Z",
     "iopub.status.busy": "2022-02-10T18:45:53.717692Z",
     "iopub.status.idle": "2022-02-10T18:45:53.872546Z",
     "shell.execute_reply": "2022-02-10T18:45:53.871922Z"
    },
    "id": "7wkfLyxBZdh_"
   },
   "outputs": [
    {
     "data": {
      "text/plain": [
       "(0.5, 0.7)"
      ]
     },
     "execution_count": 35,
     "metadata": {},
     "output_type": "execute_result"
    },
    {
     "data": {
      "image/png": "[encoded data removed]",
      "text/plain": [
       "<Figure size 432x288 with 1 Axes>"
      ]
     },
     "metadata": {
      "needs_background": "light"
     },
     "output_type": "display_data"
    }
   ],
   "source": [
    "plotter.plot(regularizer_histories)\n",
    "plt.ylim([0.5, 0.7])"
   ]
  },
  {
   "cell_type": "code",
   "execution_count": 36,
   "metadata": {
    "execution": {
     "iopub.execute_input": "2022-02-10T18:45:53.877603Z",
     "iopub.status.busy": "2022-02-10T18:45:53.877067Z",
     "iopub.status.idle": "2022-02-10T18:45:53.883400Z",
     "shell.execute_reply": "2022-02-10T18:45:53.883778Z"
    },
    "id": "apDHQNybjaML"
   },
   "outputs": [],
   "source": [
    "result = l2_model(features)\n",
    "regularization_loss=tf.add_n(l2_model.losses)"
   ]
  },
  {
   "cell_type": "code",
   "execution_count": 37,
   "metadata": {
    "execution": {
     "iopub.execute_input": "2022-02-10T18:45:53.894618Z",
     "iopub.status.busy": "2022-02-10T18:45:53.893999Z",
     "iopub.status.idle": "2022-02-10T18:46:32.932979Z",
     "shell.execute_reply": "2022-02-10T18:46:32.933383Z"
    },
    "id": "OFEYvtrHxSWS"
   },
   "outputs": [
    {
     "name": "stdout",
     "output_type": "stream",
     "text": [
      "Model: \"sequential_5\"\n",
      "_________________________________________________________________\n",
      " Layer (type)                Output Shape              Param #   \n",
      "=================================================================\n",
      " dense_19 (Dense)            (None, 512)               14848     \n",
      "                                                                 \n",
      " dropout (Dropout)           (None, 512)               0         \n",
      "                                                                 \n",
      " dense_20 (Dense)            (None, 512)               262656    \n",
      "                                                                 \n",
      " dropout_1 (Dropout)         (None, 512)               0         \n",
      "                                                                 \n",
      " dense_21 (Dense)            (None, 512)               262656    \n",
      "                                                                 \n",
      " dropout_2 (Dropout)         (None, 512)               0         \n",
      "                                                                 \n",
      " dense_22 (Dense)            (None, 512)               262656    \n",
      "                                                                 \n",
      " dropout_3 (Dropout)         (None, 512)               0         \n",
      "                                                                 \n",
      " dense_23 (Dense)            (None, 1)                 513       \n",
      "                                                                 \n",
      "=================================================================\n",
      "Total params: 803,329\n",
      "Trainable params: 803,329\n",
      "Non-trainable params: 0\n",
      "_________________________________________________________________\n",
      "\n",
      "Epoch: 0, accuracy:0.5028,  binary_crossentropy:0.8034,  loss:0.8034,  val_accuracy:0.5320,  val_binary_crossentropy:0.6764,  val_loss:0.6764,  \n",
      "....................................................................................................\n",
      "Epoch: 100, accuracy:0.6628,  binary_crossentropy:0.5952,  loss:0.5952,  val_accuracy:0.6610,  val_binary_crossentropy:0.5781,  val_loss:0.5781,  \n",
      "....................................................................................................\n",
      "Epoch: 200, accuracy:0.6864,  binary_crossentropy:0.5610,  loss:0.5610,  val_accuracy:0.6810,  val_binary_crossentropy:0.5820,  val_loss:0.5820,  \n",
      "....................................................................................................\n",
      "Epoch: 300, accuracy:0.7201,  binary_crossentropy:0.5141,  loss:0.5141,  val_accuracy:0.6850,  val_binary_crossentropy:0.5940,  val_loss:0.5940,  \n",
      "....................................................................................................\n",
      "Epoch: 400, accuracy:0.7514,  binary_crossentropy:0.4666,  loss:0.4666,  val_accuracy:0.6960,  val_binary_crossentropy:0.6230,  val_loss:0.6230,  \n",
      "................................."
     ]
    }
   ],
   "source": [
    "dropout_model = tf.keras.Sequential([\n",
    "    layers.Dense(512, activation='elu', input_shape=(FEATURES,)),\n",
    "    layers.Dropout(0.5),\n",
    "    layers.Dense(512, activation='elu'),\n",
    "    layers.Dropout(0.5),\n",
    "    layers.Dense(512, activation='elu'),\n",
    "    layers.Dropout(0.5),\n",
    "    layers.Dense(512, activation='elu'),\n",
    "    layers.Dropout(0.5),\n",
    "    layers.Dense(1)\n",
    "])\n",
    "\n",
    "regularizer_histories['dropout'] = compile_and_fit(dropout_model, \"regularizers/dropout\")"
   ]
  },
  {
   "cell_type": "code",
   "execution_count": 38,
   "metadata": {
    "execution": {
     "iopub.execute_input": "2022-02-10T18:46:32.937827Z",
     "iopub.status.busy": "2022-02-10T18:46:32.937179Z",
     "iopub.status.idle": "2022-02-10T18:46:33.101206Z",
     "shell.execute_reply": "2022-02-10T18:46:33.101637Z"
    },
    "id": "SPZqwVchx5xp"
   },
   "outputs": [
    {
     "data": {
      "text/plain": [
       "(0.5, 0.7)"
      ]
     },
     "execution_count": 38,
     "metadata": {},
     "output_type": "execute_result"
    },
    {
     "data": {
      "image/png": "[encoded data removed]",
      "text/plain": [
       "<Figure size 432x288 with 1 Axes>"
      ]
     },
     "metadata": {
      "needs_background": "light"
     },
     "output_type": "display_data"
    }
   ],
   "source": [
    "plotter.plot(regularizer_histories)\n",
    "plt.ylim([0.5, 0.7])"
   ]
  },
  {
   "cell_type": "code",
   "execution_count": 39,
   "metadata": {
    "execution": {
     "iopub.execute_input": "2022-02-10T18:46:33.113354Z",
     "iopub.status.busy": "2022-02-10T18:46:33.109377Z",
     "iopub.status.idle": "2022-02-10T18:48:07.888664Z",
     "shell.execute_reply": "2022-02-10T18:48:07.889087Z"
    },
    "id": "7zfs_qQIw1cz"
   },
   "outputs": [
    {
     "name": "stdout",
     "output_type": "stream",
     "text": [
      "Model: \"sequential_6\"\n",
      "_________________________________________________________________\n",
      " Layer (type)                Output Shape              Param #   \n",
      "=================================================================\n",
      " dense_24 (Dense)            (None, 512)               14848     \n",
      "                                                                 \n",
      " dropout_4 (Dropout)         (None, 512)               0         \n",
      "                                                                 \n",
      " dense_25 (Dense)            (None, 512)               262656    \n",
      "                                                                 \n",
      " dropout_5 (Dropout)         (None, 512)               0         \n",
      "                                                                 \n",
      " dense_26 (Dense)            (None, 512)               262656    \n",
      "                                                                 \n",
      " dropout_6 (Dropout)         (None, 512)               0         \n",
      "                                                                 \n",
      " dense_27 (Dense)            (None, 512)               262656    \n",
      "                                                                 \n",
      " dropout_7 (Dropout)         (None, 512)               0         \n",
      "                                                                 \n",
      " dense_28 (Dense)            (None, 1)                 513       \n",
      "                                                                 \n",
      "=================================================================\n",
      "Total params: 803,329\n",
      "Trainable params: 803,329\n",
      "Non-trainable params: 0\n",
      "_________________________________________________________________\n",
      "\n",
      "Epoch: 0, accuracy:0.5030,  binary_crossentropy:0.8026,  loss:0.9613,  val_accuracy:0.4820,  val_binary_crossentropy:0.6734,  val_loss:0.8314,  \n",
      "....................................................................................................\n",
      "Epoch: 100, accuracy:0.6486,  binary_crossentropy:0.6038,  loss:0.6342,  val_accuracy:0.6560,  val_binary_crossentropy:0.5859,  val_loss:0.6162,  \n",
      "....................................................................................................\n",
      "Epoch: 200, accuracy:0.6679,  binary_crossentropy:0.5887,  loss:0.6140,  val_accuracy:0.6620,  val_binary_crossentropy:0.5793,  val_loss:0.6046,  \n",
      "....................................................................................................\n",
      "Epoch: 300, accuracy:0.6745,  binary_crossentropy:0.5820,  loss:0.6098,  val_accuracy:0.6880,  val_binary_crossentropy:0.5620,  val_loss:0.5898,  \n",
      "....................................................................................................\n",
      "Epoch: 400, accuracy:0.6794,  binary_crossentropy:0.5772,  loss:0.6070,  val_accuracy:0.6960,  val_binary_crossentropy:0.5578,  val_loss:0.5875,  \n",
      "....................................................................................................\n",
      "Epoch: 500, accuracy:0.6799,  binary_crossentropy:0.5693,  loss:0.6009,  val_accuracy:0.6860,  val_binary_crossentropy:0.5530,  val_loss:0.5846,  \n",
      "....................................................................................................\n",
      "Epoch: 600, accuracy:0.6830,  binary_crossentropy:0.5660,  loss:0.5997,  val_accuracy:0.6710,  val_binary_crossentropy:0.5616,  val_loss:0.5954,  \n",
      "....................................................................................................\n",
      "Epoch: 700, accuracy:0.6871,  binary_crossentropy:0.5624,  loss:0.5979,  val_accuracy:0.7060,  val_binary_crossentropy:0.5472,  val_loss:0.5826,  \n",
      "....................................................................................................\n",
      "Epoch: 800, accuracy:0.6896,  binary_crossentropy:0.5576,  loss:0.5947,  val_accuracy:0.7070,  val_binary_crossentropy:0.5468,  val_loss:0.5839,  \n",
      "..........................................................................."
     ]
    }
   ],
   "source": [
    "combined_model = tf.keras.Sequential([\n",
    "    layers.Dense(512, kernel_regularizer=regularizers.l2(0.0001),\n",
    "                 activation='elu', input_shape=(FEATURES,)),\n",
    "    layers.Dropout(0.5),\n",
    "    layers.Dense(512, kernel_regularizer=regularizers.l2(0.0001),\n",
    "                 activation='elu'),\n",
    "    layers.Dropout(0.5),\n",
    "    layers.Dense(512, kernel_regularizer=regularizers.l2(0.0001),\n",
    "                 activation='elu'),\n",
    "    layers.Dropout(0.5),\n",
    "    layers.Dense(512, kernel_regularizer=regularizers.l2(0.0001),\n",
    "                 activation='elu'),\n",
    "    layers.Dropout(0.5),\n",
    "    layers.Dense(1)\n",
    "])\n",
    "\n",
    "regularizer_histories['combined'] = compile_and_fit(combined_model, \"regularizers/combined\")"
   ]
  },
  {
   "cell_type": "code",
   "execution_count": 40,
   "metadata": {
    "execution": {
     "iopub.execute_input": "2022-02-10T18:48:07.894029Z",
     "iopub.status.busy": "2022-02-10T18:48:07.893438Z",
     "iopub.status.idle": "2022-02-10T18:48:08.110820Z",
     "shell.execute_reply": "2022-02-10T18:48:08.111212Z"
    },
    "id": "qDqBBxfI0Yd8"
   },
   "outputs": [
    {
     "data": {
      "text/plain": [
       "(0.5, 0.7)"
      ]
     },
     "execution_count": 40,
     "metadata": {},
     "output_type": "execute_result"
    },
    {
     "data": {
      "image/png": "[encoded data removed]",
      "text/plain": [
       "<Figure size 432x288 with 1 Axes>"
      ]
     },
     "metadata": {
      "needs_background": "light"
     },
     "output_type": "display_data"
    }
   ],
   "source": [
    "plotter.plot(regularizer_histories)\n",
    "plt.ylim([0.5, 0.7])"
   ]
  },
  {
   "cell_type": "code",
   "execution_count": 41,
   "metadata": {
    "execution": {
     "iopub.execute_input": "2022-02-10T18:48:08.116497Z",
     "iopub.status.busy": "2022-02-10T18:48:08.115862Z",
     "iopub.status.idle": "2022-02-10T18:48:08.118718Z",
     "shell.execute_reply": "2022-02-10T18:48:08.119072Z"
    },
    "id": "doMtyYoqFEO5"
   },
   "outputs": [
    {
     "data": {
      "text/html": [
       "\n",
       "      <iframe id=\"tensorboard-frame-2c9afd1bf951f176\" width=\"100%\" height=\"800\" frameborder=\"0\">\n",
       "      </iframe>\n",
       "      <script>\n",
       "        (function() {\n",
       "          const frame = document.getElementById(\"tensorboard-frame-2c9afd1bf951f176\");\n",
       "          const url = new URL(\"/\", window.location);\n",
       "          const port = 6007;\n",
       "          if (port) {\n",
       "            url.port = port;\n",
       "          }\n",
       "          frame.src = url;\n",
       "        })();\n",
       "      </script>\n",
       "    "
      ],
      "text/plain": [
       "<IPython.core.display.HTML object>"
      ]
     },
     "metadata": {},
     "output_type": "display_data"
    }
   ],
   "source": [
    "%tensorboard --logdir {logdir}/regularizers"
   ]
  },
  {
   "cell_type": "code",
   "execution_count": null,
   "metadata": {},
   "outputs": [],
   "source": []
  }
 ],
 "metadata": {
  "accelerator": "GPU",
  "colab": {
   "collapsed_sections": [],
   "name": "overfit_and_underfit.ipynb",
   "toc_visible": true
  },
  "kernelspec": {
   "display_name": "Python 3 (ipykernel)",
   "language": "python",
   "name": "python3"
  },
  "language_info": {
   "codemirror_mode": {
    "name": "ipython",
    "version": 3
   },
   "file_extension": ".py",
   "mimetype": "text/x-python",
   "name": "python",
   "nbconvert_exporter": "python",
   "pygments_lexer": "ipython3",
   "version": "3.9.7"
  }
 },
 "nbformat": 4,
 "nbformat_minor": 1
}

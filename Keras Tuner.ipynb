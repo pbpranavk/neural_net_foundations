{
 "cells": [
  {
   "cell_type": "code",
   "execution_count": 1,
   "metadata": {
    "execution": {
     "iopub.execute_input": "2022-01-26T07:36:44.918447Z",
     "iopub.status.busy": "2022-01-26T07:36:44.917882Z",
     "iopub.status.idle": "2022-01-26T07:36:46.852874Z",
     "shell.execute_reply": "2022-01-26T07:36:46.853243Z"
    },
    "id": "IqR2PQG4ZaZ0"
   },
   "outputs": [],
   "source": [
    "import tensorflow as tf\n",
    "from tensorflow import keras"
   ]
  },
  {
   "cell_type": "code",
   "execution_count": 2,
   "metadata": {
    "execution": {
     "iopub.execute_input": "2022-01-26T07:36:46.858101Z",
     "iopub.status.busy": "2022-01-26T07:36:46.857494Z",
     "iopub.status.idle": "2022-01-26T07:37:03.638787Z",
     "shell.execute_reply": "2022-01-26T07:37:03.638246Z"
    },
    "id": "hpMLpbt9jcO6"
   },
   "outputs": [],
   "source": [
    "!pip install -q -U keras-tuner"
   ]
  },
  {
   "cell_type": "code",
   "execution_count": 3,
   "metadata": {
    "execution": {
     "iopub.execute_input": "2022-01-26T07:37:03.644265Z",
     "iopub.status.busy": "2022-01-26T07:37:03.643586Z",
     "iopub.status.idle": "2022-01-26T07:37:04.189065Z",
     "shell.execute_reply": "2022-01-26T07:37:04.189571Z"
    },
    "id": "_leAIdFKAxAD"
   },
   "outputs": [],
   "source": [
    "import keras_tuner as kt"
   ]
  },
  {
   "cell_type": "code",
   "execution_count": 4,
   "metadata": {
    "execution": {
     "iopub.execute_input": "2022-01-26T07:37:04.194248Z",
     "iopub.status.busy": "2022-01-26T07:37:04.193675Z",
     "iopub.status.idle": "2022-01-26T07:37:04.598500Z",
     "shell.execute_reply": "2022-01-26T07:37:04.597655Z"
    },
    "id": "OHlHs9Wj_PUM"
   },
   "outputs": [],
   "source": [
    "(img_train, label_train), (img_test, label_test) = keras.datasets.fashion_mnist.load_data()"
   ]
  },
  {
   "cell_type": "code",
   "execution_count": 5,
   "metadata": {
    "execution": {
     "iopub.execute_input": "2022-01-26T07:37:04.603124Z",
     "iopub.status.busy": "2022-01-26T07:37:04.602513Z",
     "iopub.status.idle": "2022-01-26T07:37:04.680932Z",
     "shell.execute_reply": "2022-01-26T07:37:04.680352Z"
    },
    "id": "bLVhXs3xrUD0"
   },
   "outputs": [],
   "source": [
    "# Normalize pixel values between 0 and 1\n",
    "img_train = img_train.astype('float32') / 255.0\n",
    "img_test = img_test.astype('float32') / 255.0"
   ]
  },
  {
   "cell_type": "code",
   "execution_count": 6,
   "metadata": {
    "execution": {
     "iopub.execute_input": "2022-01-26T07:37:04.687734Z",
     "iopub.status.busy": "2022-01-26T07:37:04.687093Z",
     "iopub.status.idle": "2022-01-26T07:37:04.689022Z",
     "shell.execute_reply": "2022-01-26T07:37:04.688582Z"
    },
    "id": "ZQKodC-jtsva"
   },
   "outputs": [],
   "source": [
    "def model_builder(hp):\n",
    "  model = keras.Sequential()\n",
    "  model.add(keras.layers.Flatten(input_shape=(28, 28)))\n",
    "\n",
    "  # Tune the number of units in the first Dense layer\n",
    "  # Choose an optimal value between 32-512\n",
    "  hp_units = hp.Int('units', min_value=32, max_value=512, step=32)\n",
    "  model.add(keras.layers.Dense(units=hp_units, activation='relu'))\n",
    "  model.add(keras.layers.Dense(10))\n",
    "\n",
    "  # Tune the learning rate for the optimizer\n",
    "  # Choose an optimal value from 0.01, 0.001, or 0.0001\n",
    "  hp_learning_rate = hp.Choice('learning_rate', values=[1e-2, 1e-3, 1e-4])\n",
    "\n",
    "  model.compile(optimizer=keras.optimizers.Adam(learning_rate=hp_learning_rate),\n",
    "                loss=keras.losses.SparseCategoricalCrossentropy(from_logits=True),\n",
    "                metrics=['accuracy'])\n",
    "\n",
    "  return model"
   ]
  },
  {
   "cell_type": "code",
   "execution_count": 7,
   "metadata": {
    "execution": {
     "iopub.execute_input": "2022-01-26T07:37:04.694067Z",
     "iopub.status.busy": "2022-01-26T07:37:04.693516Z",
     "iopub.status.idle": "2022-01-26T07:37:06.293619Z",
     "shell.execute_reply": "2022-01-26T07:37:06.293088Z"
    },
    "id": "oichQFly6Y46"
   },
   "outputs": [
    {
     "name": "stderr",
     "output_type": "stream",
     "text": [
      "2022-03-01 13:22:41.978518: I tensorflow/core/platform/cpu_feature_guard.cc:151] This TensorFlow binary is optimized with oneAPI Deep Neural Network Library (oneDNN) to use the following CPU instructions in performance-critical operations:  AVX2 FMA\n",
      "To enable them in other operations, rebuild TensorFlow with the appropriate compiler flags.\n"
     ]
    }
   ],
   "source": [
    "tuner = kt.Hyperband(model_builder,\n",
    "                     objective='val_accuracy',\n",
    "                     max_epochs=10,\n",
    "                     factor=3,\n",
    "                     directory='my_dir',\n",
    "                     project_name='intro_to_kt')"
   ]
  },
  {
   "cell_type": "code",
   "execution_count": 8,
   "metadata": {
    "execution": {
     "iopub.execute_input": "2022-01-26T07:37:06.298326Z",
     "iopub.status.busy": "2022-01-26T07:37:06.297756Z",
     "iopub.status.idle": "2022-01-26T07:37:06.299768Z",
     "shell.execute_reply": "2022-01-26T07:37:06.299328Z"
    },
    "id": "WT9IkS9NEjLc"
   },
   "outputs": [],
   "source": [
    "stop_early = tf.keras.callbacks.EarlyStopping(monitor='val_loss', patience=5)"
   ]
  },
  {
   "cell_type": "code",
   "execution_count": 9,
   "metadata": {
    "execution": {
     "iopub.execute_input": "2022-01-26T07:37:06.304894Z",
     "iopub.status.busy": "2022-01-26T07:37:06.304338Z",
     "iopub.status.idle": "2022-01-26T07:44:32.579962Z",
     "shell.execute_reply": "2022-01-26T07:44:32.580349Z"
    },
    "id": "dSBQcTHF9cKt"
   },
   "outputs": [
    {
     "name": "stdout",
     "output_type": "stream",
     "text": [
      "Trial 30 Complete [00h 00m 58s]\n",
      "val_accuracy: 0.887583315372467\n",
      "\n",
      "Best val_accuracy So Far: 0.887583315372467\n",
      "Total elapsed time: 00h 10m 32s\n",
      "INFO:tensorflow:Oracle triggered exit\n",
      "\n",
      "The hyperparameter search is complete. The optimal number of units in the first densely-connected\n",
      "layer is 352 and the optimal learning rate for the optimizer\n",
      "is 0.001.\n",
      "\n"
     ]
    }
   ],
   "source": [
    "tuner.search(img_train, label_train, epochs=50, validation_split=0.2, callbacks=[stop_early])\n",
    "\n",
    "# Get the optimal hyperparameters\n",
    "best_hps=tuner.get_best_hyperparameters(num_trials=1)[0]\n",
    "\n",
    "print(f\"\"\"\n",
    "The hyperparameter search is complete. The optimal number of units in the first densely-connected\n",
    "layer is {best_hps.get('units')} and the optimal learning rate for the optimizer\n",
    "is {best_hps.get('learning_rate')}.\n",
    "\"\"\")"
   ]
  },
  {
   "cell_type": "code",
   "execution_count": 10,
   "metadata": {
    "execution": {
     "iopub.execute_input": "2022-01-26T07:44:32.585889Z",
     "iopub.status.busy": "2022-01-26T07:44:32.585289Z",
     "iopub.status.idle": "2022-01-26T07:47:21.513069Z",
     "shell.execute_reply": "2022-01-26T07:47:21.513448Z"
    },
    "id": "McO82AXOuxXh"
   },
   "outputs": [
    {
     "name": "stdout",
     "output_type": "stream",
     "text": [
      "Epoch 1/50\n",
      "1500/1500 [==============================] - 6s 4ms/step - loss: 0.4988 - accuracy: 0.8247 - val_loss: 0.4043 - val_accuracy: 0.8558\n",
      "Epoch 2/50\n",
      "1500/1500 [==============================] - 5s 4ms/step - loss: 0.3730 - accuracy: 0.8650 - val_loss: 0.4027 - val_accuracy: 0.8526\n",
      "Epoch 3/50\n",
      "1500/1500 [==============================] - 5s 3ms/step - loss: 0.3312 - accuracy: 0.8778 - val_loss: 0.3532 - val_accuracy: 0.8723\n",
      "Epoch 4/50\n",
      "1500/1500 [==============================] - 4s 3ms/step - loss: 0.3071 - accuracy: 0.8862 - val_loss: 0.3505 - val_accuracy: 0.8754\n",
      "Epoch 5/50\n",
      "1500/1500 [==============================] - 5s 3ms/step - loss: 0.2866 - accuracy: 0.8939 - val_loss: 0.3170 - val_accuracy: 0.8847\n",
      "Epoch 6/50\n",
      "1500/1500 [==============================] - 5s 3ms/step - loss: 0.2711 - accuracy: 0.8996 - val_loss: 0.3135 - val_accuracy: 0.8888\n",
      "Epoch 7/50\n",
      "1500/1500 [==============================] - 5s 3ms/step - loss: 0.2579 - accuracy: 0.9025 - val_loss: 0.3107 - val_accuracy: 0.8894\n",
      "Epoch 8/50\n",
      "1500/1500 [==============================] - 4s 3ms/step - loss: 0.2444 - accuracy: 0.9094 - val_loss: 0.3175 - val_accuracy: 0.8870\n",
      "Epoch 9/50\n",
      "1500/1500 [==============================] - 5s 3ms/step - loss: 0.2360 - accuracy: 0.9110 - val_loss: 0.3076 - val_accuracy: 0.8916\n",
      "Epoch 10/50\n",
      "1500/1500 [==============================] - 5s 3ms/step - loss: 0.2272 - accuracy: 0.9147 - val_loss: 0.3255 - val_accuracy: 0.8865\n",
      "Epoch 11/50\n",
      "1500/1500 [==============================] - 5s 3ms/step - loss: 0.2173 - accuracy: 0.9183 - val_loss: 0.3319 - val_accuracy: 0.8833\n",
      "Epoch 12/50\n",
      "1500/1500 [==============================] - 5s 3ms/step - loss: 0.2090 - accuracy: 0.9221 - val_loss: 0.3257 - val_accuracy: 0.8888\n",
      "Epoch 13/50\n",
      "1500/1500 [==============================] - 5s 3ms/step - loss: 0.2011 - accuracy: 0.9235 - val_loss: 0.3306 - val_accuracy: 0.8863\n",
      "Epoch 14/50\n",
      "1500/1500 [==============================] - 5s 3ms/step - loss: 0.1927 - accuracy: 0.9280 - val_loss: 0.3361 - val_accuracy: 0.8899\n",
      "Epoch 15/50\n",
      "1500/1500 [==============================] - 5s 3ms/step - loss: 0.1842 - accuracy: 0.9308 - val_loss: 0.3438 - val_accuracy: 0.8910\n",
      "Epoch 16/50\n",
      "1500/1500 [==============================] - 5s 3ms/step - loss: 0.1813 - accuracy: 0.9318 - val_loss: 0.3282 - val_accuracy: 0.8972\n",
      "Epoch 17/50\n",
      "1500/1500 [==============================] - 5s 3ms/step - loss: 0.1761 - accuracy: 0.9343 - val_loss: 0.3294 - val_accuracy: 0.8941\n",
      "Epoch 18/50\n",
      "1500/1500 [==============================] - 5s 3ms/step - loss: 0.1708 - accuracy: 0.9360 - val_loss: 0.3528 - val_accuracy: 0.8897\n",
      "Epoch 19/50\n",
      "1500/1500 [==============================] - 5s 3ms/step - loss: 0.1619 - accuracy: 0.9397 - val_loss: 0.3313 - val_accuracy: 0.8957\n",
      "Epoch 20/50\n",
      "1500/1500 [==============================] - 5s 3ms/step - loss: 0.1575 - accuracy: 0.9403 - val_loss: 0.3495 - val_accuracy: 0.8892\n",
      "Epoch 21/50\n",
      "1500/1500 [==============================] - 5s 3ms/step - loss: 0.1553 - accuracy: 0.9408 - val_loss: 0.3644 - val_accuracy: 0.8936\n",
      "Epoch 22/50\n",
      "1500/1500 [==============================] - 5s 3ms/step - loss: 0.1504 - accuracy: 0.9429 - val_loss: 0.3844 - val_accuracy: 0.8892\n",
      "Epoch 23/50\n",
      "1500/1500 [==============================] - 5s 3ms/step - loss: 0.1433 - accuracy: 0.9467 - val_loss: 0.3948 - val_accuracy: 0.8909\n",
      "Epoch 24/50\n",
      "1500/1500 [==============================] - 5s 3ms/step - loss: 0.1414 - accuracy: 0.9472 - val_loss: 0.3846 - val_accuracy: 0.8926\n",
      "Epoch 25/50\n",
      "1500/1500 [==============================] - 5s 3ms/step - loss: 0.1352 - accuracy: 0.9488 - val_loss: 0.3640 - val_accuracy: 0.8959\n",
      "Epoch 26/50\n",
      "1500/1500 [==============================] - 5s 3ms/step - loss: 0.1305 - accuracy: 0.9511 - val_loss: 0.3928 - val_accuracy: 0.8922\n",
      "Epoch 27/50\n",
      "1500/1500 [==============================] - 5s 3ms/step - loss: 0.1273 - accuracy: 0.9519 - val_loss: 0.3984 - val_accuracy: 0.8922\n",
      "Epoch 28/50\n",
      "1500/1500 [==============================] - 5s 3ms/step - loss: 0.1242 - accuracy: 0.9525 - val_loss: 0.3791 - val_accuracy: 0.8964\n",
      "Epoch 29/50\n",
      "1500/1500 [==============================] - 5s 4ms/step - loss: 0.1202 - accuracy: 0.9545 - val_loss: 0.4135 - val_accuracy: 0.8903\n",
      "Epoch 30/50\n",
      "1500/1500 [==============================] - 6s 4ms/step - loss: 0.1174 - accuracy: 0.9560 - val_loss: 0.3979 - val_accuracy: 0.8958\n",
      "Epoch 31/50\n",
      "1500/1500 [==============================] - 5s 3ms/step - loss: 0.1166 - accuracy: 0.9563 - val_loss: 0.4138 - val_accuracy: 0.8897\n",
      "Epoch 32/50\n",
      "1500/1500 [==============================] - 6s 4ms/step - loss: 0.1110 - accuracy: 0.9585 - val_loss: 0.4088 - val_accuracy: 0.8938\n",
      "Epoch 33/50\n",
      "1500/1500 [==============================] - 5s 3ms/step - loss: 0.1098 - accuracy: 0.9591 - val_loss: 0.4504 - val_accuracy: 0.8921\n",
      "Epoch 34/50\n",
      "1500/1500 [==============================] - 5s 4ms/step - loss: 0.1048 - accuracy: 0.9613 - val_loss: 0.4174 - val_accuracy: 0.8938\n",
      "Epoch 35/50\n",
      "1500/1500 [==============================] - 5s 4ms/step - loss: 0.1040 - accuracy: 0.9608 - val_loss: 0.4359 - val_accuracy: 0.8888\n",
      "Epoch 36/50\n",
      "1500/1500 [==============================] - 5s 4ms/step - loss: 0.1029 - accuracy: 0.9607 - val_loss: 0.4284 - val_accuracy: 0.8906\n",
      "Epoch 37/50\n",
      "1500/1500 [==============================] - 5s 3ms/step - loss: 0.1003 - accuracy: 0.9620 - val_loss: 0.4449 - val_accuracy: 0.8939\n",
      "Epoch 38/50\n",
      "1500/1500 [==============================] - 5s 3ms/step - loss: 0.0977 - accuracy: 0.9631 - val_loss: 0.4254 - val_accuracy: 0.8950\n",
      "Epoch 39/50\n",
      "1500/1500 [==============================] - 5s 3ms/step - loss: 0.0973 - accuracy: 0.9635 - val_loss: 0.4471 - val_accuracy: 0.8974\n",
      "Epoch 40/50\n",
      "1500/1500 [==============================] - 5s 3ms/step - loss: 0.0938 - accuracy: 0.9646 - val_loss: 0.4886 - val_accuracy: 0.8882\n",
      "Epoch 41/50\n",
      "1500/1500 [==============================] - 5s 3ms/step - loss: 0.0915 - accuracy: 0.9660 - val_loss: 0.4814 - val_accuracy: 0.8895\n",
      "Epoch 42/50\n",
      "1500/1500 [==============================] - 5s 3ms/step - loss: 0.0897 - accuracy: 0.9662 - val_loss: 0.4541 - val_accuracy: 0.8956\n",
      "Epoch 43/50\n",
      "1500/1500 [==============================] - 5s 3ms/step - loss: 0.0858 - accuracy: 0.9665 - val_loss: 0.4747 - val_accuracy: 0.8942\n",
      "Epoch 44/50\n",
      "1500/1500 [==============================] - 5s 3ms/step - loss: 0.0840 - accuracy: 0.9685 - val_loss: 0.4696 - val_accuracy: 0.8951\n",
      "Epoch 45/50\n",
      "1500/1500 [==============================] - 5s 3ms/step - loss: 0.0827 - accuracy: 0.9682 - val_loss: 0.4621 - val_accuracy: 0.8936\n",
      "Epoch 46/50\n",
      "1500/1500 [==============================] - 5s 3ms/step - loss: 0.0812 - accuracy: 0.9696 - val_loss: 0.4983 - val_accuracy: 0.8950\n",
      "Epoch 47/50\n",
      "1500/1500 [==============================] - 5s 3ms/step - loss: 0.0785 - accuracy: 0.9700 - val_loss: 0.4876 - val_accuracy: 0.8969\n",
      "Epoch 48/50\n",
      "1500/1500 [==============================] - 5s 3ms/step - loss: 0.0800 - accuracy: 0.9709 - val_loss: 0.5390 - val_accuracy: 0.8896\n",
      "Epoch 49/50\n",
      "1500/1500 [==============================] - 5s 3ms/step - loss: 0.0770 - accuracy: 0.9713 - val_loss: 0.5042 - val_accuracy: 0.8953\n",
      "Epoch 50/50\n",
      "1500/1500 [==============================] - 5s 3ms/step - loss: 0.0756 - accuracy: 0.9719 - val_loss: 0.5291 - val_accuracy: 0.8896\n",
      "Best epoch: 39\n"
     ]
    }
   ],
   "source": [
    "# Build the model with the optimal hyperparameters and train it on the data for 50 epochs\n",
    "model = tuner.hypermodel.build(best_hps)\n",
    "history = model.fit(img_train, label_train, epochs=50, validation_split=0.2)\n",
    "\n",
    "val_acc_per_epoch = history.history['val_accuracy']\n",
    "best_epoch = val_acc_per_epoch.index(max(val_acc_per_epoch)) + 1\n",
    "print('Best epoch: %d' % (best_epoch,))"
   ]
  },
  {
   "cell_type": "code",
   "execution_count": 11,
   "metadata": {
    "execution": {
     "iopub.execute_input": "2022-01-26T07:47:21.519168Z",
     "iopub.status.busy": "2022-01-26T07:47:21.518592Z",
     "iopub.status.idle": "2022-01-26T07:50:13.226922Z",
     "shell.execute_reply": "2022-01-26T07:50:13.227343Z"
    },
    "id": "NoiPUEHmMhCe"
   },
   "outputs": [
    {
     "name": "stdout",
     "output_type": "stream",
     "text": [
      "Epoch 1/39\n",
      "1500/1500 [==============================] - 5s 3ms/step - loss: 0.4982 - accuracy: 0.8236 - val_loss: 0.4120 - val_accuracy: 0.8516\n",
      "Epoch 2/39\n",
      "1500/1500 [==============================] - 5s 3ms/step - loss: 0.3698 - accuracy: 0.8656 - val_loss: 0.3693 - val_accuracy: 0.8704\n",
      "Epoch 3/39\n",
      "1500/1500 [==============================] - 5s 3ms/step - loss: 0.3311 - accuracy: 0.8781 - val_loss: 0.3459 - val_accuracy: 0.8781\n",
      "Epoch 4/39\n",
      "1500/1500 [==============================] - 5s 3ms/step - loss: 0.3058 - accuracy: 0.8869 - val_loss: 0.3394 - val_accuracy: 0.8801\n",
      "Epoch 5/39\n",
      "1500/1500 [==============================] - 5s 3ms/step - loss: 0.2870 - accuracy: 0.8940 - val_loss: 0.3318 - val_accuracy: 0.8827\n",
      "Epoch 6/39\n",
      "1500/1500 [==============================] - 5s 3ms/step - loss: 0.2747 - accuracy: 0.8981 - val_loss: 0.3238 - val_accuracy: 0.8832\n",
      "Epoch 7/39\n",
      "1500/1500 [==============================] - 5s 3ms/step - loss: 0.2573 - accuracy: 0.9045 - val_loss: 0.3314 - val_accuracy: 0.8810\n",
      "Epoch 8/39\n",
      "1500/1500 [==============================] - 5s 3ms/step - loss: 0.2463 - accuracy: 0.9063 - val_loss: 0.3247 - val_accuracy: 0.8842\n",
      "Epoch 9/39\n",
      "1500/1500 [==============================] - 5s 3ms/step - loss: 0.2358 - accuracy: 0.9113 - val_loss: 0.3202 - val_accuracy: 0.8864\n",
      "Epoch 10/39\n",
      "1500/1500 [==============================] - 5s 3ms/step - loss: 0.2269 - accuracy: 0.9143 - val_loss: 0.3249 - val_accuracy: 0.8892\n",
      "Epoch 11/39\n",
      "1500/1500 [==============================] - 5s 3ms/step - loss: 0.2171 - accuracy: 0.9187 - val_loss: 0.3244 - val_accuracy: 0.8893\n",
      "Epoch 12/39\n",
      "1500/1500 [==============================] - 5s 3ms/step - loss: 0.2113 - accuracy: 0.9204 - val_loss: 0.3205 - val_accuracy: 0.8899\n",
      "Epoch 13/39\n",
      "1500/1500 [==============================] - 5s 3ms/step - loss: 0.2004 - accuracy: 0.9248 - val_loss: 0.3249 - val_accuracy: 0.8894\n",
      "Epoch 14/39\n",
      "1500/1500 [==============================] - 5s 3ms/step - loss: 0.1946 - accuracy: 0.9254 - val_loss: 0.3246 - val_accuracy: 0.8913\n",
      "Epoch 15/39\n",
      "1500/1500 [==============================] - 5s 3ms/step - loss: 0.1875 - accuracy: 0.9293 - val_loss: 0.3417 - val_accuracy: 0.8867\n",
      "Epoch 16/39\n",
      "1500/1500 [==============================] - 5s 3ms/step - loss: 0.1819 - accuracy: 0.9323 - val_loss: 0.3258 - val_accuracy: 0.8927\n",
      "Epoch 17/39\n",
      "1500/1500 [==============================] - 5s 3ms/step - loss: 0.1757 - accuracy: 0.9335 - val_loss: 0.3469 - val_accuracy: 0.8888\n",
      "Epoch 18/39\n",
      "1500/1500 [==============================] - 5s 3ms/step - loss: 0.1676 - accuracy: 0.9377 - val_loss: 0.3440 - val_accuracy: 0.8910\n",
      "Epoch 19/39\n",
      "1500/1500 [==============================] - 5s 3ms/step - loss: 0.1631 - accuracy: 0.9388 - val_loss: 0.3604 - val_accuracy: 0.8865\n",
      "Epoch 20/39\n",
      "1500/1500 [==============================] - 5s 3ms/step - loss: 0.1586 - accuracy: 0.9406 - val_loss: 0.3513 - val_accuracy: 0.8928\n",
      "Epoch 21/39\n",
      "1500/1500 [==============================] - 5s 3ms/step - loss: 0.1557 - accuracy: 0.9416 - val_loss: 0.3782 - val_accuracy: 0.8912\n",
      "Epoch 22/39\n",
      "1500/1500 [==============================] - 5s 3ms/step - loss: 0.1503 - accuracy: 0.9431 - val_loss: 0.3585 - val_accuracy: 0.8938\n",
      "Epoch 23/39\n",
      "1500/1500 [==============================] - 5s 3ms/step - loss: 0.1454 - accuracy: 0.9446 - val_loss: 0.3637 - val_accuracy: 0.8904\n",
      "Epoch 24/39\n",
      "1500/1500 [==============================] - 5s 3ms/step - loss: 0.1418 - accuracy: 0.9465 - val_loss: 0.3569 - val_accuracy: 0.8997\n",
      "Epoch 25/39\n",
      "1500/1500 [==============================] - 5s 3ms/step - loss: 0.1371 - accuracy: 0.9487 - val_loss: 0.3800 - val_accuracy: 0.8883\n",
      "Epoch 26/39\n",
      "1500/1500 [==============================] - 5s 3ms/step - loss: 0.1345 - accuracy: 0.9503 - val_loss: 0.3793 - val_accuracy: 0.8931\n",
      "Epoch 27/39\n",
      "1500/1500 [==============================] - 5s 3ms/step - loss: 0.1279 - accuracy: 0.9520 - val_loss: 0.3845 - val_accuracy: 0.8895\n",
      "Epoch 28/39\n",
      "1500/1500 [==============================] - 5s 3ms/step - loss: 0.1281 - accuracy: 0.9528 - val_loss: 0.3880 - val_accuracy: 0.8946\n",
      "Epoch 29/39\n",
      "1500/1500 [==============================] - 5s 3ms/step - loss: 0.1218 - accuracy: 0.9541 - val_loss: 0.4081 - val_accuracy: 0.8898\n",
      "Epoch 30/39\n",
      "1500/1500 [==============================] - 5s 3ms/step - loss: 0.1197 - accuracy: 0.9546 - val_loss: 0.4003 - val_accuracy: 0.8909\n",
      "Epoch 31/39\n",
      "1500/1500 [==============================] - 5s 3ms/step - loss: 0.1171 - accuracy: 0.9556 - val_loss: 0.3964 - val_accuracy: 0.8910\n",
      "Epoch 32/39\n",
      "1500/1500 [==============================] - 5s 3ms/step - loss: 0.1157 - accuracy: 0.9558 - val_loss: 0.4094 - val_accuracy: 0.8957\n",
      "Epoch 33/39\n",
      "1500/1500 [==============================] - 5s 3ms/step - loss: 0.1097 - accuracy: 0.9585 - val_loss: 0.4410 - val_accuracy: 0.8894\n",
      "Epoch 34/39\n",
      "1500/1500 [==============================] - 5s 3ms/step - loss: 0.1102 - accuracy: 0.9589 - val_loss: 0.4298 - val_accuracy: 0.8937\n",
      "Epoch 35/39\n",
      "1500/1500 [==============================] - 5s 3ms/step - loss: 0.1061 - accuracy: 0.9599 - val_loss: 0.4490 - val_accuracy: 0.8862\n",
      "Epoch 36/39\n",
      "1500/1500 [==============================] - 5s 3ms/step - loss: 0.1044 - accuracy: 0.9605 - val_loss: 0.4184 - val_accuracy: 0.8931\n",
      "Epoch 37/39\n",
      "1500/1500 [==============================] - 5s 3ms/step - loss: 0.1024 - accuracy: 0.9611 - val_loss: 0.4474 - val_accuracy: 0.8892\n",
      "Epoch 38/39\n",
      "1500/1500 [==============================] - 5s 3ms/step - loss: 0.0977 - accuracy: 0.9630 - val_loss: 0.4304 - val_accuracy: 0.8911\n",
      "Epoch 39/39\n",
      "1500/1500 [==============================] - 5s 3ms/step - loss: 0.0935 - accuracy: 0.9646 - val_loss: 0.4720 - val_accuracy: 0.8898\n"
     ]
    },
    {
     "data": {
      "text/plain": [
       "<keras.callbacks.History at 0x15317fd60>"
      ]
     },
     "execution_count": 11,
     "metadata": {},
     "output_type": "execute_result"
    }
   ],
   "source": [
    "hypermodel = tuner.hypermodel.build(best_hps)\n",
    "\n",
    "# Retrain the model\n",
    "hypermodel.fit(img_train, label_train, epochs=best_epoch, validation_split=0.2)"
   ]
  },
  {
   "cell_type": "code",
   "execution_count": 12,
   "metadata": {
    "execution": {
     "iopub.execute_input": "2022-01-26T07:50:13.261757Z",
     "iopub.status.busy": "2022-01-26T07:50:13.260905Z",
     "iopub.status.idle": "2022-01-26T07:50:14.164014Z",
     "shell.execute_reply": "2022-01-26T07:50:14.163492Z"
    },
    "id": "9E0BTp9Ealjb"
   },
   "outputs": [
    {
     "name": "stdout",
     "output_type": "stream",
     "text": [
      "313/313 [==============================] - 1s 2ms/step - loss: 0.5300 - accuracy: 0.8897\n",
      "[test loss, test accuracy]: [0.5299750566482544, 0.8896999955177307]\n"
     ]
    }
   ],
   "source": [
    "eval_result = hypermodel.evaluate(img_test, label_test)\n",
    "print(\"[test loss, test accuracy]:\", eval_result)"
   ]
  },
  {
   "cell_type": "code",
   "execution_count": null,
   "metadata": {},
   "outputs": [],
   "source": []
  }
 ],
 "metadata": {
  "accelerator": "GPU",
  "colab": {
   "collapsed_sections": [
    "Tce3stUlHN0L"
   ],
   "name": "keras_tuner.ipynb",
   "toc_visible": true
  },
  "kernelspec": {
   "display_name": "Python 3 (ipykernel)",
   "language": "python",
   "name": "python3"
  },
  "language_info": {
   "codemirror_mode": {
    "name": "ipython",
    "version": 3
   },
   "file_extension": ".py",
   "mimetype": "text/x-python",
   "name": "python",
   "nbconvert_exporter": "python",
   "pygments_lexer": "ipython3",
   "version": "3.9.7"
  }
 },
 "nbformat": 4,
 "nbformat_minor": 1
}

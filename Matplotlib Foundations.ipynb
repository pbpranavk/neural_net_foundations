{
 "cells": [
  {
   "cell_type": "code",
   "execution_count": 5,
   "id": "9617081d",
   "metadata": {},
   "outputs": [],
   "source": [
    "import numpy as np\n",
    "import matplotlib.pyplot as plt"
   ]
  },
  {
   "cell_type": "code",
   "execution_count": 8,
   "id": "782836dc",
   "metadata": {},
   "outputs": [
    {
     "data": {
      "text/plain": [
       "Text(0.5, 1.0, 'My First Graph')"
      ]
     },
     "execution_count": 8,
     "metadata": {},
     "output_type": "execute_result"
    },
    {
     "data": {
      "image/png": "[encoded data removed]",
      "text/plain": [
       "<Figure size 432x288 with 1 Axes>"
      ]
     },
     "metadata": {
      "needs_background": "light"
     },
     "output_type": "display_data"
    }
   ],
   "source": [
    "plt.plot(np.array([0,1,2]), np.array([10,11,12]))\n",
    "plt.xlabel(\"X - Axis\")\n",
    "plt.ylabel(\"Y - Axis\")\n",
    "plt.title(\"My First Graph\")"
   ]
  },
  {
   "cell_type": "markdown",
   "id": "7dfc615d",
   "metadata": {},
   "source": [
    "## 1) 2 Ways of creating a plot\n",
    " - plt.plot, plt.figure, plt.subplot (preferred way)"
   ]
  },
  {
   "cell_type": "markdown",
   "id": "2e3c5060",
   "metadata": {},
   "source": [
    "## 2) Types of plots (from numpy arrays & from pd data frames )\n",
    " - .line, .scatter, .bar, .hist, .subplots\n",
    " - preprocessing data in pd data frames before plotting them"
   ]
  },
  {
   "cell_type": "markdown",
   "id": "e705cf6c",
   "metadata": {},
   "source": [
    "## 3) Plotting in OO fashion"
   ]
  },
  {
   "cell_type": "markdown",
   "id": "d825eb53",
   "metadata": {},
   "source": [
    "## 4) Customizing plots\n",
    " - .use() -> to change the grid style\n",
    " - title, xlabel, ylabel\n",
    " - axhline -> horizontal x line\n",
    " - c & cmap -> color & color mpa\n",
    " - set_xlim, set_ylim"
   ]
  },
  {
   "cell_type": "markdown",
   "id": "ae3b49a1",
   "metadata": {},
   "source": [
    "## 5) Saving Plot & Creating a plotting fuction\n",
    " - 5.1 Save Plot\n",
    "     - .savefig\n",
    " - 5.2 Creating a plotting func\n",
    "     - ```\n",
    "         def plotting_workflow(data):\n",
    "            # 1. Manipulating Data\n",
    "            # 2. Create plot\n",
    "            # 3. Plot data\n",
    "            # 4. Customize plot\n",
    "            # 5. Save Plot\n",
    "            # 6. Return Plot\n",
    "    return plot\n",
    "       ```"
   ]
  },
  {
   "cell_type": "code",
   "execution_count": null,
   "id": "6104b7f1",
   "metadata": {},
   "outputs": [],
   "source": []
  }
 ],
 "metadata": {
  "kernelspec": {
   "display_name": "Python 3 (ipykernel)",
   "language": "python",
   "name": "python3"
  },
  "language_info": {
   "codemirror_mode": {
    "name": "ipython",
    "version": 3
   },
   "file_extension": ".py",
   "mimetype": "text/x-python",
   "name": "python",
   "nbconvert_exporter": "python",
   "pygments_lexer": "ipython3",
   "version": "3.9.7"
  }
 },
 "nbformat": 4,
 "nbformat_minor": 5
}

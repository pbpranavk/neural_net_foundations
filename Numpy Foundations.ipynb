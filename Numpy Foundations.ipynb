{
 "cells": [
  {
   "cell_type": "code",
   "execution_count": 1,
   "id": "cb2b8056",
   "metadata": {},
   "outputs": [],
   "source": [
    "import numpy as np"
   ]
  },
  {
   "cell_type": "markdown",
   "id": "6d640620",
   "metadata": {},
   "source": [
    "## 1. Creating an array\n",
    " - np.array\n",
    " - np.ones\n",
    " - np.zeros\n",
    " - np.unique\n",
    " - np.random.rand\n",
    " - np.random.randint"
   ]
  },
  {
   "cell_type": "markdown",
   "id": "f6f3256e",
   "metadata": {},
   "source": [
    "## 2. Viewing arrays & matrices (Indexing)"
   ]
  },
  {
   "cell_type": "markdown",
   "id": "05557631",
   "metadata": {},
   "source": [
    "## 3. Manipulating & Comparing arrays\n",
    " - 3.1 Arithematic\n",
    "     - +, -, *, /, //, **, %\n",
    "     - np.exp, np.log\n",
    "     - np.dot\n",
    " - 3.2 Aggregation\n",
    "     - np.sum, np.sum(x>3),\n",
    "     - np.mean, np.std,\n",
    "     - np.var, np.min, np.max\n",
    "     - np.argmin, np.argmax\n",
    "     - np.reshape, mat.T\n",
    " - 3.3 Comparision\n",
    "     - `>` , >=, <, <=, !=, =="
   ]
  },
  {
   "cell_type": "markdown",
   "id": "8a0b0c8e",
   "metadata": {},
   "source": [
    "## 4. Sorting Arrays\n",
    " - np.sort, np.argsort\n",
    " - np.argmax, np.argmin"
   ]
  },
  {
   "cell_type": "code",
   "execution_count": null,
   "id": "624ee55b",
   "metadata": {},
   "outputs": [],
   "source": []
  }
 ],
 "metadata": {
  "kernelspec": {
   "display_name": "Python 3 (ipykernel)",
   "language": "python",
   "name": "python3"
  },
  "language_info": {
   "codemirror_mode": {
    "name": "ipython",
    "version": 3
   },
   "file_extension": ".py",
   "mimetype": "text/x-python",
   "name": "python",
   "nbconvert_exporter": "python",
   "pygments_lexer": "ipython3",
   "version": "3.9.7"
  }
 },
 "nbformat": 4,
 "nbformat_minor": 5
}

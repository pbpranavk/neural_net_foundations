{
 "cells": [
  {
   "cell_type": "code",
   "execution_count": 3,
   "id": "e8c31883",
   "metadata": {},
   "outputs": [],
   "source": [
    "import tensorflow as tf\n",
    "from tensorflow.keras import Sequential"
   ]
  },
  {
   "cell_type": "markdown",
   "id": "315a7292",
   "metadata": {},
   "source": [
    "## 0. QuickStart\n",
    " - Keras Sequential\n",
    " - Custom Models & Training"
   ]
  },
  {
   "cell_type": "markdown",
   "id": "41556188",
   "metadata": {},
   "source": [
    "## 1. Keras\n",
    " - Basic Image Classification (MNIST)\n",
    " - Basic Text Classification (Sentiment Analysis)\n",
    " - Transfer Learning with TF-Hub\n",
    " - Regression\n",
    " - Overfit & Underfit\n",
    " - Save & Load\n",
    " - Tuning with Keras Tuner\n",
    " - More examples on keras.io\n",
    "     - Computer Vision, NLP, Structured Data\n",
    "     - TimeSeries, Audio Data, GANs\n",
    "     - Keras Recipies"
   ]
  },
  {
   "cell_type": "markdown",
   "id": "33f47284",
   "metadata": {},
   "source": [
    "## 2. Customization\n",
    " - Tensors & Operations\n",
    " - Custom Layers\n",
    " - Custom Training"
   ]
  },
  {
   "cell_type": "markdown",
   "id": "70f11c13",
   "metadata": {},
   "source": [
    "## 3. Distributed Training"
   ]
  },
  {
   "cell_type": "markdown",
   "id": "3b9f1d93",
   "metadata": {},
   "source": [
    "## 4. Images\n",
    " - CNN\n",
    " - Data Augmentation\n",
    " - Image Segmentation\n",
    " - Transfer Learning & Fine Tuning"
   ]
  },
  {
   "cell_type": "markdown",
   "id": "242c4ebe",
   "metadata": {},
   "source": [
    "## 5. Text\n",
    " - Word Embeddings\n",
    " - Word2Vec\n",
    " - Text Classification RNN\n",
    " - BERT\n",
    " - GLUE + BERT + TPU\n",
    " - Machine Translation\n",
    " - Image Captioning"
   ]
  },
  {
   "cell_type": "markdown",
   "id": "d6facbbb",
   "metadata": {},
   "source": [
    "## 6. Audio\n",
    " - Audio Recognition\n",
    " - Transfer Learning\n",
    " - Generating Music"
   ]
  },
  {
   "cell_type": "markdown",
   "id": "273c62fc",
   "metadata": {},
   "source": [
    "## 7. Structured Data\n",
    " - Classifying\n",
    " - Classifying on imbalanced data\n",
    " - TimeSeries forecasting\n",
    " - Decision Forest Models\n",
    " - Recommenders"
   ]
  },
  {
   "cell_type": "markdown",
   "id": "62e7400f",
   "metadata": {},
   "source": [
    "## 8. Generative\n",
    " - Neural Style Transfer\n",
    " - Deep Dream\n",
    " - DCGAN\n",
    " - Pix2Pix\n",
    " - CycleGAN\n",
    " - Adverserial FGSM\n",
    " - Intro to Autoencoders\n",
    " - Variational Autoencoders"
   ]
  },
  {
   "cell_type": "markdown",
   "id": "473f17cc",
   "metadata": {},
   "source": [
    "## 9. Model Understanding\n",
    " - Integrated gradients\n",
    " - Understanding quantification with SNGP\n",
    " - Probabilistic Regression"
   ]
  },
  {
   "cell_type": "markdown",
   "id": "6285e7f1",
   "metadata": {},
   "source": [
    "## 10. Reinforcement Learning\n",
    " - Actor - Critic Method\n",
    " - Tf Agents"
   ]
  },
  {
   "cell_type": "markdown",
   "id": "55ec61d1",
   "metadata": {},
   "source": [
    "## 11. Tf.Estimator\n",
    " - Premade estimator\n",
    " - Linear Model\n",
    " - Keras Model to Estimator\n",
    " - Multi worker training with Estimator\n",
    " - Feature Columns"
   ]
  },
  {
   "cell_type": "code",
   "execution_count": null,
   "id": "827f7414",
   "metadata": {},
   "outputs": [],
   "source": []
  }
 ],
 "metadata": {
  "kernelspec": {
   "display_name": "Python 3 (ipykernel)",
   "language": "python",
   "name": "python3"
  },
  "language_info": {
   "codemirror_mode": {
    "name": "ipython",
    "version": 3
   },
   "file_extension": ".py",
   "mimetype": "text/x-python",
   "name": "python",
   "nbconvert_exporter": "python",
   "pygments_lexer": "ipython3",
   "version": "3.9.7"
  }
 },
 "nbformat": 4,
 "nbformat_minor": 5
}

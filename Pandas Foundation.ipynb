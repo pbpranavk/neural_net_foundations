{
 "cells": [
  {
   "cell_type": "code",
   "execution_count": 1,
   "id": "67ecb9b3",
   "metadata": {},
   "outputs": [],
   "source": [
    "import numpy as np\n",
    "import pandas as pd"
   ]
  },
  {
   "cell_type": "code",
   "execution_count": 2,
   "id": "3eaf5940",
   "metadata": {},
   "outputs": [
    {
     "data": {
      "text/html": [
       "<div>\n",
       "<style scoped>\n",
       "    .dataframe tbody tr th:only-of-type {\n",
       "        vertical-align: middle;\n",
       "    }\n",
       "\n",
       "    .dataframe tbody tr th {\n",
       "        vertical-align: top;\n",
       "    }\n",
       "\n",
       "    .dataframe thead th {\n",
       "        text-align: right;\n",
       "    }\n",
       "</style>\n",
       "<table border=\"1\" class=\"dataframe\">\n",
       "  <thead>\n",
       "    <tr style=\"text-align: right;\">\n",
       "      <th></th>\n",
       "      <th>x</th>\n",
       "      <th>y</th>\n",
       "    </tr>\n",
       "  </thead>\n",
       "  <tbody>\n",
       "    <tr>\n",
       "      <th>0</th>\n",
       "      <td>0</td>\n",
       "      <td>10</td>\n",
       "    </tr>\n",
       "    <tr>\n",
       "      <th>1</th>\n",
       "      <td>1</td>\n",
       "      <td>11</td>\n",
       "    </tr>\n",
       "    <tr>\n",
       "      <th>2</th>\n",
       "      <td>2</td>\n",
       "      <td>12</td>\n",
       "    </tr>\n",
       "  </tbody>\n",
       "</table>\n",
       "</div>"
      ],
      "text/plain": [
       "   x   y\n",
       "0  0  10\n",
       "1  1  11\n",
       "2  2  12"
      ]
     },
     "execution_count": 2,
     "metadata": {},
     "output_type": "execute_result"
    }
   ],
   "source": [
    "pd.DataFrame({ \"x\" : np.array([0,1,2]), \"y\": np.array([10,11,12])})"
   ]
  },
  {
   "cell_type": "markdown",
   "id": "dbb228fd",
   "metadata": {},
   "source": [
    "## 1. Data Types\n",
    " - Series (1d)\n",
    " - Data Frames (2d)\n",
    " - Anatomy of a Data Frame (axis = 1 (col) , axis = 0 (row))"
   ]
  },
  {
   "cell_type": "markdown",
   "id": "c1993dda",
   "metadata": {},
   "source": [
    "## 2. Improting Data & Exporting Data"
   ]
  },
  {
   "cell_type": "markdown",
   "id": "77748beb",
   "metadata": {},
   "source": [
    "## 3. Describing Data\n",
    " - .dtypes, .columns, .index,\n",
    " - .sum(), .describe(), info(), .mean()"
   ]
  },
  {
   "cell_type": "markdown",
   "id": "d5f3b8e1",
   "metadata": {},
   "source": [
    "## 4. Viewing & Selecting Data\n",
    " - .head(), .tail(), .loc(), .iloc(), .columns(df['A'])\n",
    " - boolean indexing (df[df['A'] > 5])\n",
    " - .crosstab(), .plot(), .hist()"
   ]
  },
  {
   "cell_type": "markdown",
   "id": "efe71ceb",
   "metadata": {},
   "source": [
    "## 5. Manipulating Data\n",
    " - .str (df['A'] = df['A'].str.lower())\n",
    " - .fillna, .dropna, .drop, .sample, .reset_index()\n",
    " - .apply(lambda x: x/1.6)"
   ]
  },
  {
   "cell_type": "code",
   "execution_count": null,
   "id": "260f4521",
   "metadata": {},
   "outputs": [],
   "source": []
  }
 ],
 "metadata": {
  "kernelspec": {
   "display_name": "Python 3 (ipykernel)",
   "language": "python",
   "name": "python3"
  },
  "language_info": {
   "codemirror_mode": {
    "name": "ipython",
    "version": 3
   },
   "file_extension": ".py",
   "mimetype": "text/x-python",
   "name": "python",
   "nbconvert_exporter": "python",
   "pygments_lexer": "ipython3",
   "version": "3.9.7"
  }
 },
 "nbformat": 4,
 "nbformat_minor": 5
}
